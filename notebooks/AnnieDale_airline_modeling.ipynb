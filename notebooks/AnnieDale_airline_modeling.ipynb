{
 "cells": [
  {
   "cell_type": "markdown",
   "metadata": {
    "id": "VexYA5r9KiCj"
   },
   "source": [
    "# Project 3: Airline Delay and Cancellation\n",
    "\n",
    "## Annie Dale\n",
    "### Introduction to Data Science (St. Edward's University, Spring 2024)\n",
    "**Goal:** Explore trends surrounding airline flight arrivals and departures. With these trends in mind, employ and compare three machine learning models to predict flight arrival status (early, ontime, delayed).\n",
    "\n",
    "**Data (Download Available From):** https://www.kaggle.com/datasets/sherrytp/airline-delay-analysis\n",
    "*  Note: For this project, I used the CSV files from 2016, 2017, and 2018. I randomly subsetted 10,000 rows of data from each year and created a new CSV file. Each row represents a unique flight.\n",
    "\n",
    "The aim of this notebook is to demonstrate my machine learning coding capabilities and comprehension. For this project, I looked into flight arrival time since as passengers we usually care greater about getting to our destination ontime or early. I categorized flight arrival status as \"early\" if the arr_delay time was less than -5 minutes. The flight was categorized as \"delayed\" if the arr_delay was greater than 5 minutes. Finally, the flight was categorized as \"ontime\" if the arr_delay was in between -5 to +5 minutes.\n",
    "\n",
    "This notebook is split up into three sections: data processing, exploratory data analysis, and machine learning."
   ]
  },
  {
   "cell_type": "markdown",
   "metadata": {
    "id": "pHxhecW18vGq"
   },
   "source": [
    "## Data Processing\n",
    "**Goal:** Set up airline flight data to be explored and modeled.\n",
    "\n",
    "**Steps:**\n",
    "1.  Import packages\n",
    "2.  Load in subsetted data\n",
    "3.  Rename and restructure columns\n",
    "4.  Categorize and label encode both arrival and departure status"
   ]
  },
  {
   "cell_type": "code",
   "execution_count": 163,
   "metadata": {
    "colab": {
     "base_uri": "https://localhost:8080/"
    },
    "id": "ViW6F4QPlLDR",
    "outputId": "2639efd3-09ba-4ca2-dc64-5412929aa585"
   },
   "outputs": [],
   "source": [
    "# load packages\n",
    "import pandas as pd\n",
    "import numpy as np"
   ]
  },
  {
   "cell_type": "code",
   "execution_count": 164,
   "metadata": {
    "id": "vxyGijbplQKx"
   },
   "outputs": [],
   "source": [
    "# load data\n",
    "df = pd.read_csv('airline_30k.csv')"
   ]
  },
  {
   "cell_type": "code",
   "execution_count": 165,
   "metadata": {
    "colab": {
     "base_uri": "https://localhost:8080/"
    },
    "id": "wNWsSr3mlVf3",
    "outputId": "d00370e8-cbee-4159-d21a-0e848b0297cd"
   },
   "outputs": [
    {
     "data": {
      "text/plain": [
       "Index(['Unnamed: 0', 'FL_DATE', 'OP_CARRIER', 'OP_CARRIER_FL_NUM', 'ORIGIN',\n",
       "       'DEST', 'CRS_DEP_TIME', 'DEP_TIME', 'DEP_DELAY', 'TAXI_OUT',\n",
       "       'WHEELS_OFF', 'WHEELS_ON', 'TAXI_IN', 'CRS_ARR_TIME', 'ARR_TIME',\n",
       "       'ARR_DELAY', 'CANCELLED', 'CANCELLATION_CODE', 'DIVERTED',\n",
       "       'CRS_ELAPSED_TIME', 'ACTUAL_ELAPSED_TIME', 'AIR_TIME', 'DISTANCE',\n",
       "       'CARRIER_DELAY', 'WEATHER_DELAY', 'NAS_DELAY', 'SECURITY_DELAY',\n",
       "       'LATE_AIRCRAFT_DELAY', 'Unnamed: 27'],\n",
       "      dtype='object')"
      ]
     },
     "execution_count": 165,
     "metadata": {},
     "output_type": "execute_result"
    }
   ],
   "source": [
    "# view column names\n",
    "df.columns"
   ]
  },
  {
   "cell_type": "code",
   "execution_count": 166,
   "metadata": {
    "id": "u92z7qVfl3Oq"
   },
   "outputs": [],
   "source": [
    "# drop uninformative columns\n",
    "df = df.drop(columns=['Unnamed: 0','OP_CARRIER_FL_NUM', 'Unnamed: 27'], axis=1)"
   ]
  },
  {
   "cell_type": "code",
   "execution_count": 167,
   "metadata": {
    "id": "OAAnj4OrlT7H"
   },
   "outputs": [],
   "source": [
    "# transform columns to be lowercase\n",
    "df.columns = map(str.lower, df.columns)"
   ]
  },
  {
   "cell_type": "code",
   "execution_count": 168,
   "metadata": {
    "id": "yibyEWAnlXh5"
   },
   "outputs": [],
   "source": [
    "# rename columns for usability\n",
    "df = df.rename(columns={'fl_date':'date', 'op_carrier':'airline'})\n",
    "# transform date to datetime object\n",
    "df['date'] = pd.to_datetime(df['date'])"
   ]
  },
  {
   "cell_type": "code",
   "execution_count": 169,
   "metadata": {
    "colab": {
     "base_uri": "https://localhost:8080/",
     "height": 313
    },
    "id": "Zew5ISR-lkAi",
    "outputId": "f6eb2268-85bb-4b20-b3a6-50f9e2efe956"
   },
   "outputs": [
    {
     "data": {
      "text/html": [
       "<div>\n",
       "<style scoped>\n",
       "    .dataframe tbody tr th:only-of-type {\n",
       "        vertical-align: middle;\n",
       "    }\n",
       "\n",
       "    .dataframe tbody tr th {\n",
       "        vertical-align: top;\n",
       "    }\n",
       "\n",
       "    .dataframe thead th {\n",
       "        text-align: right;\n",
       "    }\n",
       "</style>\n",
       "<table border=\"1\" class=\"dataframe\">\n",
       "  <thead>\n",
       "    <tr style=\"text-align: right;\">\n",
       "      <th></th>\n",
       "      <th>date</th>\n",
       "      <th>airline</th>\n",
       "      <th>origin</th>\n",
       "      <th>dest</th>\n",
       "      <th>crs_dep_time</th>\n",
       "      <th>dep_time</th>\n",
       "      <th>dep_delay</th>\n",
       "      <th>taxi_out</th>\n",
       "      <th>wheels_off</th>\n",
       "      <th>wheels_on</th>\n",
       "      <th>taxi_in</th>\n",
       "      <th>crs_arr_time</th>\n",
       "      <th>arr_time</th>\n",
       "      <th>arr_delay</th>\n",
       "      <th>cancelled</th>\n",
       "      <th>cancellation_code</th>\n",
       "      <th>diverted</th>\n",
       "      <th>crs_elapsed_time</th>\n",
       "      <th>actual_elapsed_time</th>\n",
       "      <th>air_time</th>\n",
       "      <th>distance</th>\n",
       "      <th>carrier_delay</th>\n",
       "      <th>weather_delay</th>\n",
       "      <th>nas_delay</th>\n",
       "      <th>security_delay</th>\n",
       "      <th>late_aircraft_delay</th>\n",
       "    </tr>\n",
       "  </thead>\n",
       "  <tbody>\n",
       "    <tr>\n",
       "      <th>0</th>\n",
       "      <td>2018-01-01</td>\n",
       "      <td>UA</td>\n",
       "      <td>IAD</td>\n",
       "      <td>EWR</td>\n",
       "      <td>1717</td>\n",
       "      <td>1738.0</td>\n",
       "      <td>21.0</td>\n",
       "      <td>23.0</td>\n",
       "      <td>1801.0</td>\n",
       "      <td>1837.0</td>\n",
       "      <td>6.0</td>\n",
       "      <td>1845</td>\n",
       "      <td>1843.0</td>\n",
       "      <td>-2.0</td>\n",
       "      <td>0.0</td>\n",
       "      <td>NaN</td>\n",
       "      <td>0.0</td>\n",
       "      <td>88.0</td>\n",
       "      <td>65.0</td>\n",
       "      <td>36.0</td>\n",
       "      <td>212.0</td>\n",
       "      <td>NaN</td>\n",
       "      <td>NaN</td>\n",
       "      <td>NaN</td>\n",
       "      <td>NaN</td>\n",
       "      <td>NaN</td>\n",
       "    </tr>\n",
       "    <tr>\n",
       "      <th>1</th>\n",
       "      <td>2018-01-01</td>\n",
       "      <td>UA</td>\n",
       "      <td>MIA</td>\n",
       "      <td>ORD</td>\n",
       "      <td>1226</td>\n",
       "      <td>1217.0</td>\n",
       "      <td>-9.0</td>\n",
       "      <td>16.0</td>\n",
       "      <td>1233.0</td>\n",
       "      <td>1421.0</td>\n",
       "      <td>3.0</td>\n",
       "      <td>1448</td>\n",
       "      <td>1424.0</td>\n",
       "      <td>-24.0</td>\n",
       "      <td>0.0</td>\n",
       "      <td>NaN</td>\n",
       "      <td>0.0</td>\n",
       "      <td>202.0</td>\n",
       "      <td>187.0</td>\n",
       "      <td>168.0</td>\n",
       "      <td>1197.0</td>\n",
       "      <td>NaN</td>\n",
       "      <td>NaN</td>\n",
       "      <td>NaN</td>\n",
       "      <td>NaN</td>\n",
       "      <td>NaN</td>\n",
       "    </tr>\n",
       "    <tr>\n",
       "      <th>2</th>\n",
       "      <td>2018-01-01</td>\n",
       "      <td>AS</td>\n",
       "      <td>IAH</td>\n",
       "      <td>SEA</td>\n",
       "      <td>1925</td>\n",
       "      <td>1947.0</td>\n",
       "      <td>22.0</td>\n",
       "      <td>15.0</td>\n",
       "      <td>2002.0</td>\n",
       "      <td>2228.0</td>\n",
       "      <td>10.0</td>\n",
       "      <td>2225</td>\n",
       "      <td>2238.0</td>\n",
       "      <td>13.0</td>\n",
       "      <td>0.0</td>\n",
       "      <td>NaN</td>\n",
       "      <td>0.0</td>\n",
       "      <td>300.0</td>\n",
       "      <td>291.0</td>\n",
       "      <td>266.0</td>\n",
       "      <td>1874.0</td>\n",
       "      <td>NaN</td>\n",
       "      <td>NaN</td>\n",
       "      <td>NaN</td>\n",
       "      <td>NaN</td>\n",
       "      <td>NaN</td>\n",
       "    </tr>\n",
       "    <tr>\n",
       "      <th>3</th>\n",
       "      <td>2018-01-01</td>\n",
       "      <td>EV</td>\n",
       "      <td>DFW</td>\n",
       "      <td>BHM</td>\n",
       "      <td>1250</td>\n",
       "      <td>1322.0</td>\n",
       "      <td>32.0</td>\n",
       "      <td>14.0</td>\n",
       "      <td>1336.0</td>\n",
       "      <td>1448.0</td>\n",
       "      <td>13.0</td>\n",
       "      <td>1433</td>\n",
       "      <td>1501.0</td>\n",
       "      <td>28.0</td>\n",
       "      <td>0.0</td>\n",
       "      <td>NaN</td>\n",
       "      <td>0.0</td>\n",
       "      <td>103.0</td>\n",
       "      <td>99.0</td>\n",
       "      <td>72.0</td>\n",
       "      <td>597.0</td>\n",
       "      <td>0.0</td>\n",
       "      <td>0.0</td>\n",
       "      <td>0.0</td>\n",
       "      <td>0.0</td>\n",
       "      <td>28.0</td>\n",
       "    </tr>\n",
       "    <tr>\n",
       "      <th>4</th>\n",
       "      <td>2018-01-01</td>\n",
       "      <td>EV</td>\n",
       "      <td>EWR</td>\n",
       "      <td>PVD</td>\n",
       "      <td>1103</td>\n",
       "      <td>1058.0</td>\n",
       "      <td>-5.0</td>\n",
       "      <td>14.0</td>\n",
       "      <td>1112.0</td>\n",
       "      <td>1145.0</td>\n",
       "      <td>8.0</td>\n",
       "      <td>1213</td>\n",
       "      <td>1153.0</td>\n",
       "      <td>-20.0</td>\n",
       "      <td>0.0</td>\n",
       "      <td>NaN</td>\n",
       "      <td>0.0</td>\n",
       "      <td>70.0</td>\n",
       "      <td>55.0</td>\n",
       "      <td>33.0</td>\n",
       "      <td>160.0</td>\n",
       "      <td>NaN</td>\n",
       "      <td>NaN</td>\n",
       "      <td>NaN</td>\n",
       "      <td>NaN</td>\n",
       "      <td>NaN</td>\n",
       "    </tr>\n",
       "  </tbody>\n",
       "</table>\n",
       "</div>"
      ],
      "text/plain": [
       "        date airline origin dest  crs_dep_time  dep_time  dep_delay  taxi_out  \\\n",
       "0 2018-01-01      UA    IAD  EWR          1717    1738.0       21.0      23.0   \n",
       "1 2018-01-01      UA    MIA  ORD          1226    1217.0       -9.0      16.0   \n",
       "2 2018-01-01      AS    IAH  SEA          1925    1947.0       22.0      15.0   \n",
       "3 2018-01-01      EV    DFW  BHM          1250    1322.0       32.0      14.0   \n",
       "4 2018-01-01      EV    EWR  PVD          1103    1058.0       -5.0      14.0   \n",
       "\n",
       "   wheels_off  wheels_on  taxi_in  crs_arr_time  arr_time  arr_delay  \\\n",
       "0      1801.0     1837.0      6.0          1845    1843.0       -2.0   \n",
       "1      1233.0     1421.0      3.0          1448    1424.0      -24.0   \n",
       "2      2002.0     2228.0     10.0          2225    2238.0       13.0   \n",
       "3      1336.0     1448.0     13.0          1433    1501.0       28.0   \n",
       "4      1112.0     1145.0      8.0          1213    1153.0      -20.0   \n",
       "\n",
       "   cancelled cancellation_code  diverted  crs_elapsed_time  \\\n",
       "0        0.0               NaN       0.0              88.0   \n",
       "1        0.0               NaN       0.0             202.0   \n",
       "2        0.0               NaN       0.0             300.0   \n",
       "3        0.0               NaN       0.0             103.0   \n",
       "4        0.0               NaN       0.0              70.0   \n",
       "\n",
       "   actual_elapsed_time  air_time  distance  carrier_delay  weather_delay  \\\n",
       "0                 65.0      36.0     212.0            NaN            NaN   \n",
       "1                187.0     168.0    1197.0            NaN            NaN   \n",
       "2                291.0     266.0    1874.0            NaN            NaN   \n",
       "3                 99.0      72.0     597.0            0.0            0.0   \n",
       "4                 55.0      33.0     160.0            NaN            NaN   \n",
       "\n",
       "   nas_delay  security_delay  late_aircraft_delay  \n",
       "0        NaN             NaN                  NaN  \n",
       "1        NaN             NaN                  NaN  \n",
       "2        NaN             NaN                  NaN  \n",
       "3        0.0             0.0                 28.0  \n",
       "4        NaN             NaN                  NaN  "
      ]
     },
     "execution_count": 169,
     "metadata": {},
     "output_type": "execute_result"
    }
   ],
   "source": [
    "# display dataframe with restructured columns\n",
    "pd.set_option('display.max_columns', None)\n",
    "df.head()"
   ]
  },
  {
   "cell_type": "markdown",
   "metadata": {
    "id": "Lp2WUPlzszAY"
   },
   "source": [
    "### Categorized and Label Encoded arrival delay and departure delay time\n",
    "\n",
    "Label encoding converts categorical data into numerical data, which is compatible with ML models (DT classifiers, Random Forest)\n",
    "*   On-time classification is within 5 minutes of scheduled arrival/departure time\n",
    "*   Early classification is when the flight arrived more than 5 minutes early\n",
    "*   Delayed classification is when the flight arrived more than 5 minutes late"
   ]
  },
  {
   "cell_type": "code",
   "execution_count": 170,
   "metadata": {
    "id": "jNVKzqGJvdL6"
   },
   "outputs": [],
   "source": [
    "# initialize new columns\n",
    "df['dep_status'] = np.nan\n",
    "df['arr_status'] = np.nan\n",
    "df['dep_status'] = df['dep_status'].astype('string')\n",
    "df['arr_status'] = df['arr_status'].astype('string')"
   ]
  },
  {
   "cell_type": "code",
   "execution_count": 171,
   "metadata": {
    "id": "GLtVFpfQyUyU"
   },
   "outputs": [],
   "source": [
    "# create departure status labels\n",
    "df.loc[df['dep_delay']<-5, 'dep_status'] = 'early'\n",
    "df.loc[df['dep_delay']>5, 'dep_status'] = 'delay'\n",
    "df.loc[(df['dep_delay']>=-5) & (df['dep_delay']<=5), 'dep_status'] ='ontime'"
   ]
  },
  {
   "cell_type": "code",
   "execution_count": 172,
   "metadata": {
    "id": "Za59NSRLzpiA"
   },
   "outputs": [],
   "source": [
    "# create arrival status labels\n",
    "df.loc[df['arr_delay']<-5, 'arr_status'] = 'early'\n",
    "df.loc[df['arr_delay']>5, 'arr_status'] = 'delay'\n",
    "df.loc[(df['arr_delay']>=-5) & (df['arr_delay']<=5), 'arr_status'] ='ontime'"
   ]
  },
  {
   "cell_type": "code",
   "execution_count": 173,
   "metadata": {
    "colab": {
     "base_uri": "https://localhost:8080/"
    },
    "id": "0yUxo9TuxC5k",
    "outputId": "679635d2-df5c-4c69-92f5-ce9c50ff237c"
   },
   "outputs": [
    {
     "data": {
      "text/plain": [
       "dep_status\n",
       "ontime    15152\n",
       "delay      7574\n",
       "early      6827\n",
       "Name: count, dtype: Int64"
      ]
     },
     "execution_count": 173,
     "metadata": {},
     "output_type": "execute_result"
    }
   ],
   "source": [
    "# view number of flights that fall into each category\n",
    "df['dep_status'].value_counts()"
   ]
  },
  {
   "cell_type": "code",
   "execution_count": 174,
   "metadata": {
    "colab": {
     "base_uri": "https://localhost:8080/"
    },
    "id": "XN5G5dtAzaLN",
    "outputId": "a901ab2a-3c28-414a-fc17-93835bd20634"
   },
   "outputs": [
    {
     "data": {
      "text/plain": [
       "arr_status\n",
       "early     15004\n",
       "delay      7918\n",
       "ontime     6573\n",
       "Name: count, dtype: Int64"
      ]
     },
     "execution_count": 174,
     "metadata": {},
     "output_type": "execute_result"
    }
   ],
   "source": [
    "df['arr_status'].value_counts()"
   ]
  },
  {
   "cell_type": "code",
   "execution_count": 175,
   "metadata": {
    "colab": {
     "base_uri": "https://localhost:8080/",
     "height": 313
    },
    "id": "qsgrVo7BwFHc",
    "outputId": "ede0d1e2-0d7e-47d3-f518-d1053d222940"
   },
   "outputs": [
    {
     "data": {
      "text/html": [
       "<div>\n",
       "<style scoped>\n",
       "    .dataframe tbody tr th:only-of-type {\n",
       "        vertical-align: middle;\n",
       "    }\n",
       "\n",
       "    .dataframe tbody tr th {\n",
       "        vertical-align: top;\n",
       "    }\n",
       "\n",
       "    .dataframe thead th {\n",
       "        text-align: right;\n",
       "    }\n",
       "</style>\n",
       "<table border=\"1\" class=\"dataframe\">\n",
       "  <thead>\n",
       "    <tr style=\"text-align: right;\">\n",
       "      <th></th>\n",
       "      <th>date</th>\n",
       "      <th>airline</th>\n",
       "      <th>origin</th>\n",
       "      <th>dest</th>\n",
       "      <th>crs_dep_time</th>\n",
       "      <th>dep_time</th>\n",
       "      <th>dep_delay</th>\n",
       "      <th>taxi_out</th>\n",
       "      <th>wheels_off</th>\n",
       "      <th>wheels_on</th>\n",
       "      <th>taxi_in</th>\n",
       "      <th>crs_arr_time</th>\n",
       "      <th>arr_time</th>\n",
       "      <th>arr_delay</th>\n",
       "      <th>cancelled</th>\n",
       "      <th>cancellation_code</th>\n",
       "      <th>diverted</th>\n",
       "      <th>crs_elapsed_time</th>\n",
       "      <th>actual_elapsed_time</th>\n",
       "      <th>air_time</th>\n",
       "      <th>distance</th>\n",
       "      <th>carrier_delay</th>\n",
       "      <th>weather_delay</th>\n",
       "      <th>nas_delay</th>\n",
       "      <th>security_delay</th>\n",
       "      <th>late_aircraft_delay</th>\n",
       "      <th>dep_status</th>\n",
       "      <th>arr_status</th>\n",
       "    </tr>\n",
       "  </thead>\n",
       "  <tbody>\n",
       "    <tr>\n",
       "      <th>0</th>\n",
       "      <td>2018-01-01</td>\n",
       "      <td>UA</td>\n",
       "      <td>IAD</td>\n",
       "      <td>EWR</td>\n",
       "      <td>1717</td>\n",
       "      <td>1738.0</td>\n",
       "      <td>21.0</td>\n",
       "      <td>23.0</td>\n",
       "      <td>1801.0</td>\n",
       "      <td>1837.0</td>\n",
       "      <td>6.0</td>\n",
       "      <td>1845</td>\n",
       "      <td>1843.0</td>\n",
       "      <td>-2.0</td>\n",
       "      <td>0.0</td>\n",
       "      <td>NaN</td>\n",
       "      <td>0.0</td>\n",
       "      <td>88.0</td>\n",
       "      <td>65.0</td>\n",
       "      <td>36.0</td>\n",
       "      <td>212.0</td>\n",
       "      <td>NaN</td>\n",
       "      <td>NaN</td>\n",
       "      <td>NaN</td>\n",
       "      <td>NaN</td>\n",
       "      <td>NaN</td>\n",
       "      <td>delay</td>\n",
       "      <td>ontime</td>\n",
       "    </tr>\n",
       "    <tr>\n",
       "      <th>1</th>\n",
       "      <td>2018-01-01</td>\n",
       "      <td>UA</td>\n",
       "      <td>MIA</td>\n",
       "      <td>ORD</td>\n",
       "      <td>1226</td>\n",
       "      <td>1217.0</td>\n",
       "      <td>-9.0</td>\n",
       "      <td>16.0</td>\n",
       "      <td>1233.0</td>\n",
       "      <td>1421.0</td>\n",
       "      <td>3.0</td>\n",
       "      <td>1448</td>\n",
       "      <td>1424.0</td>\n",
       "      <td>-24.0</td>\n",
       "      <td>0.0</td>\n",
       "      <td>NaN</td>\n",
       "      <td>0.0</td>\n",
       "      <td>202.0</td>\n",
       "      <td>187.0</td>\n",
       "      <td>168.0</td>\n",
       "      <td>1197.0</td>\n",
       "      <td>NaN</td>\n",
       "      <td>NaN</td>\n",
       "      <td>NaN</td>\n",
       "      <td>NaN</td>\n",
       "      <td>NaN</td>\n",
       "      <td>early</td>\n",
       "      <td>early</td>\n",
       "    </tr>\n",
       "    <tr>\n",
       "      <th>2</th>\n",
       "      <td>2018-01-01</td>\n",
       "      <td>AS</td>\n",
       "      <td>IAH</td>\n",
       "      <td>SEA</td>\n",
       "      <td>1925</td>\n",
       "      <td>1947.0</td>\n",
       "      <td>22.0</td>\n",
       "      <td>15.0</td>\n",
       "      <td>2002.0</td>\n",
       "      <td>2228.0</td>\n",
       "      <td>10.0</td>\n",
       "      <td>2225</td>\n",
       "      <td>2238.0</td>\n",
       "      <td>13.0</td>\n",
       "      <td>0.0</td>\n",
       "      <td>NaN</td>\n",
       "      <td>0.0</td>\n",
       "      <td>300.0</td>\n",
       "      <td>291.0</td>\n",
       "      <td>266.0</td>\n",
       "      <td>1874.0</td>\n",
       "      <td>NaN</td>\n",
       "      <td>NaN</td>\n",
       "      <td>NaN</td>\n",
       "      <td>NaN</td>\n",
       "      <td>NaN</td>\n",
       "      <td>delay</td>\n",
       "      <td>delay</td>\n",
       "    </tr>\n",
       "    <tr>\n",
       "      <th>3</th>\n",
       "      <td>2018-01-01</td>\n",
       "      <td>EV</td>\n",
       "      <td>DFW</td>\n",
       "      <td>BHM</td>\n",
       "      <td>1250</td>\n",
       "      <td>1322.0</td>\n",
       "      <td>32.0</td>\n",
       "      <td>14.0</td>\n",
       "      <td>1336.0</td>\n",
       "      <td>1448.0</td>\n",
       "      <td>13.0</td>\n",
       "      <td>1433</td>\n",
       "      <td>1501.0</td>\n",
       "      <td>28.0</td>\n",
       "      <td>0.0</td>\n",
       "      <td>NaN</td>\n",
       "      <td>0.0</td>\n",
       "      <td>103.0</td>\n",
       "      <td>99.0</td>\n",
       "      <td>72.0</td>\n",
       "      <td>597.0</td>\n",
       "      <td>0.0</td>\n",
       "      <td>0.0</td>\n",
       "      <td>0.0</td>\n",
       "      <td>0.0</td>\n",
       "      <td>28.0</td>\n",
       "      <td>delay</td>\n",
       "      <td>delay</td>\n",
       "    </tr>\n",
       "    <tr>\n",
       "      <th>4</th>\n",
       "      <td>2018-01-01</td>\n",
       "      <td>EV</td>\n",
       "      <td>EWR</td>\n",
       "      <td>PVD</td>\n",
       "      <td>1103</td>\n",
       "      <td>1058.0</td>\n",
       "      <td>-5.0</td>\n",
       "      <td>14.0</td>\n",
       "      <td>1112.0</td>\n",
       "      <td>1145.0</td>\n",
       "      <td>8.0</td>\n",
       "      <td>1213</td>\n",
       "      <td>1153.0</td>\n",
       "      <td>-20.0</td>\n",
       "      <td>0.0</td>\n",
       "      <td>NaN</td>\n",
       "      <td>0.0</td>\n",
       "      <td>70.0</td>\n",
       "      <td>55.0</td>\n",
       "      <td>33.0</td>\n",
       "      <td>160.0</td>\n",
       "      <td>NaN</td>\n",
       "      <td>NaN</td>\n",
       "      <td>NaN</td>\n",
       "      <td>NaN</td>\n",
       "      <td>NaN</td>\n",
       "      <td>ontime</td>\n",
       "      <td>early</td>\n",
       "    </tr>\n",
       "  </tbody>\n",
       "</table>\n",
       "</div>"
      ],
      "text/plain": [
       "        date airline origin dest  crs_dep_time  dep_time  dep_delay  taxi_out  \\\n",
       "0 2018-01-01      UA    IAD  EWR          1717    1738.0       21.0      23.0   \n",
       "1 2018-01-01      UA    MIA  ORD          1226    1217.0       -9.0      16.0   \n",
       "2 2018-01-01      AS    IAH  SEA          1925    1947.0       22.0      15.0   \n",
       "3 2018-01-01      EV    DFW  BHM          1250    1322.0       32.0      14.0   \n",
       "4 2018-01-01      EV    EWR  PVD          1103    1058.0       -5.0      14.0   \n",
       "\n",
       "   wheels_off  wheels_on  taxi_in  crs_arr_time  arr_time  arr_delay  \\\n",
       "0      1801.0     1837.0      6.0          1845    1843.0       -2.0   \n",
       "1      1233.0     1421.0      3.0          1448    1424.0      -24.0   \n",
       "2      2002.0     2228.0     10.0          2225    2238.0       13.0   \n",
       "3      1336.0     1448.0     13.0          1433    1501.0       28.0   \n",
       "4      1112.0     1145.0      8.0          1213    1153.0      -20.0   \n",
       "\n",
       "   cancelled cancellation_code  diverted  crs_elapsed_time  \\\n",
       "0        0.0               NaN       0.0              88.0   \n",
       "1        0.0               NaN       0.0             202.0   \n",
       "2        0.0               NaN       0.0             300.0   \n",
       "3        0.0               NaN       0.0             103.0   \n",
       "4        0.0               NaN       0.0              70.0   \n",
       "\n",
       "   actual_elapsed_time  air_time  distance  carrier_delay  weather_delay  \\\n",
       "0                 65.0      36.0     212.0            NaN            NaN   \n",
       "1                187.0     168.0    1197.0            NaN            NaN   \n",
       "2                291.0     266.0    1874.0            NaN            NaN   \n",
       "3                 99.0      72.0     597.0            0.0            0.0   \n",
       "4                 55.0      33.0     160.0            NaN            NaN   \n",
       "\n",
       "   nas_delay  security_delay  late_aircraft_delay dep_status arr_status  \n",
       "0        NaN             NaN                  NaN      delay     ontime  \n",
       "1        NaN             NaN                  NaN      early      early  \n",
       "2        NaN             NaN                  NaN      delay      delay  \n",
       "3        0.0             0.0                 28.0      delay      delay  \n",
       "4        NaN             NaN                  NaN     ontime      early  "
      ]
     },
     "execution_count": 175,
     "metadata": {},
     "output_type": "execute_result"
    }
   ],
   "source": [
    "# view dataframe with new category columns\n",
    "df.head()"
   ]
  },
  {
   "cell_type": "code",
   "execution_count": 176,
   "metadata": {},
   "outputs": [
    {
     "data": {
      "text/plain": [
       "447"
      ]
     },
     "execution_count": 176,
     "metadata": {},
     "output_type": "execute_result"
    }
   ],
   "source": [
    "# investigate NA values\n",
    "df['dep_status'].isna().sum()"
   ]
  },
  {
   "cell_type": "code",
   "execution_count": 177,
   "metadata": {},
   "outputs": [
    {
     "data": {
      "text/plain": [
       "505"
      ]
     },
     "execution_count": 177,
     "metadata": {},
     "output_type": "execute_result"
    }
   ],
   "source": [
    "df['arr_status'].isna().sum()"
   ]
  },
  {
   "cell_type": "code",
   "execution_count": 178,
   "metadata": {},
   "outputs": [],
   "source": [
    "# drop NA values\n",
    "df = df.dropna(subset=['dep_status', 'arr_status'])\n",
    "df = df.copy() # make sure it is a real copy of the df and not diminished because of subsetting"
   ]
  },
  {
   "cell_type": "code",
   "execution_count": 179,
   "metadata": {
    "id": "zYyOkJ17RIma"
   },
   "outputs": [],
   "source": [
    "# load LabelEncoder\n",
    "from sklearn.preprocessing import LabelEncoder"
   ]
  },
  {
   "cell_type": "code",
   "execution_count": 180,
   "metadata": {
    "id": "SfLmgw4bRL_1"
   },
   "outputs": [],
   "source": [
    "# label encode the departure and arrival status\n",
    "dep_le = LabelEncoder()\n",
    "df['dep_status_label'] = dep_le.fit_transform(df['dep_status'])\n",
    "\n",
    "arr_le = LabelEncoder()\n",
    "df['arr_status_label'] = arr_le.fit_transform(df['arr_status'])"
   ]
  },
  {
   "cell_type": "markdown",
   "metadata": {
    "id": "ufxYK9UvRi8t"
   },
   "source": [
    "Made it so 0 = delay; 1 = early; 2 = ontime"
   ]
  },
  {
   "cell_type": "code",
   "execution_count": 181,
   "metadata": {
    "colab": {
     "base_uri": "https://localhost:8080/",
     "height": 313
    },
    "id": "fs5euwjORd1K",
    "outputId": "d5da85e8-65e7-4653-8bf7-4bf10c4c7888"
   },
   "outputs": [
    {
     "data": {
      "text/html": [
       "<div>\n",
       "<style scoped>\n",
       "    .dataframe tbody tr th:only-of-type {\n",
       "        vertical-align: middle;\n",
       "    }\n",
       "\n",
       "    .dataframe tbody tr th {\n",
       "        vertical-align: top;\n",
       "    }\n",
       "\n",
       "    .dataframe thead th {\n",
       "        text-align: right;\n",
       "    }\n",
       "</style>\n",
       "<table border=\"1\" class=\"dataframe\">\n",
       "  <thead>\n",
       "    <tr style=\"text-align: right;\">\n",
       "      <th></th>\n",
       "      <th>date</th>\n",
       "      <th>airline</th>\n",
       "      <th>origin</th>\n",
       "      <th>dest</th>\n",
       "      <th>crs_dep_time</th>\n",
       "      <th>dep_time</th>\n",
       "      <th>dep_delay</th>\n",
       "      <th>taxi_out</th>\n",
       "      <th>wheels_off</th>\n",
       "      <th>wheels_on</th>\n",
       "      <th>taxi_in</th>\n",
       "      <th>crs_arr_time</th>\n",
       "      <th>arr_time</th>\n",
       "      <th>arr_delay</th>\n",
       "      <th>cancelled</th>\n",
       "      <th>cancellation_code</th>\n",
       "      <th>diverted</th>\n",
       "      <th>crs_elapsed_time</th>\n",
       "      <th>actual_elapsed_time</th>\n",
       "      <th>air_time</th>\n",
       "      <th>distance</th>\n",
       "      <th>carrier_delay</th>\n",
       "      <th>weather_delay</th>\n",
       "      <th>nas_delay</th>\n",
       "      <th>security_delay</th>\n",
       "      <th>late_aircraft_delay</th>\n",
       "      <th>dep_status</th>\n",
       "      <th>arr_status</th>\n",
       "      <th>dep_status_label</th>\n",
       "      <th>arr_status_label</th>\n",
       "    </tr>\n",
       "  </thead>\n",
       "  <tbody>\n",
       "    <tr>\n",
       "      <th>0</th>\n",
       "      <td>2018-01-01</td>\n",
       "      <td>UA</td>\n",
       "      <td>IAD</td>\n",
       "      <td>EWR</td>\n",
       "      <td>1717</td>\n",
       "      <td>1738.0</td>\n",
       "      <td>21.0</td>\n",
       "      <td>23.0</td>\n",
       "      <td>1801.0</td>\n",
       "      <td>1837.0</td>\n",
       "      <td>6.0</td>\n",
       "      <td>1845</td>\n",
       "      <td>1843.0</td>\n",
       "      <td>-2.0</td>\n",
       "      <td>0.0</td>\n",
       "      <td>NaN</td>\n",
       "      <td>0.0</td>\n",
       "      <td>88.0</td>\n",
       "      <td>65.0</td>\n",
       "      <td>36.0</td>\n",
       "      <td>212.0</td>\n",
       "      <td>NaN</td>\n",
       "      <td>NaN</td>\n",
       "      <td>NaN</td>\n",
       "      <td>NaN</td>\n",
       "      <td>NaN</td>\n",
       "      <td>delay</td>\n",
       "      <td>ontime</td>\n",
       "      <td>0</td>\n",
       "      <td>2</td>\n",
       "    </tr>\n",
       "    <tr>\n",
       "      <th>1</th>\n",
       "      <td>2018-01-01</td>\n",
       "      <td>UA</td>\n",
       "      <td>MIA</td>\n",
       "      <td>ORD</td>\n",
       "      <td>1226</td>\n",
       "      <td>1217.0</td>\n",
       "      <td>-9.0</td>\n",
       "      <td>16.0</td>\n",
       "      <td>1233.0</td>\n",
       "      <td>1421.0</td>\n",
       "      <td>3.0</td>\n",
       "      <td>1448</td>\n",
       "      <td>1424.0</td>\n",
       "      <td>-24.0</td>\n",
       "      <td>0.0</td>\n",
       "      <td>NaN</td>\n",
       "      <td>0.0</td>\n",
       "      <td>202.0</td>\n",
       "      <td>187.0</td>\n",
       "      <td>168.0</td>\n",
       "      <td>1197.0</td>\n",
       "      <td>NaN</td>\n",
       "      <td>NaN</td>\n",
       "      <td>NaN</td>\n",
       "      <td>NaN</td>\n",
       "      <td>NaN</td>\n",
       "      <td>early</td>\n",
       "      <td>early</td>\n",
       "      <td>1</td>\n",
       "      <td>1</td>\n",
       "    </tr>\n",
       "    <tr>\n",
       "      <th>2</th>\n",
       "      <td>2018-01-01</td>\n",
       "      <td>AS</td>\n",
       "      <td>IAH</td>\n",
       "      <td>SEA</td>\n",
       "      <td>1925</td>\n",
       "      <td>1947.0</td>\n",
       "      <td>22.0</td>\n",
       "      <td>15.0</td>\n",
       "      <td>2002.0</td>\n",
       "      <td>2228.0</td>\n",
       "      <td>10.0</td>\n",
       "      <td>2225</td>\n",
       "      <td>2238.0</td>\n",
       "      <td>13.0</td>\n",
       "      <td>0.0</td>\n",
       "      <td>NaN</td>\n",
       "      <td>0.0</td>\n",
       "      <td>300.0</td>\n",
       "      <td>291.0</td>\n",
       "      <td>266.0</td>\n",
       "      <td>1874.0</td>\n",
       "      <td>NaN</td>\n",
       "      <td>NaN</td>\n",
       "      <td>NaN</td>\n",
       "      <td>NaN</td>\n",
       "      <td>NaN</td>\n",
       "      <td>delay</td>\n",
       "      <td>delay</td>\n",
       "      <td>0</td>\n",
       "      <td>0</td>\n",
       "    </tr>\n",
       "    <tr>\n",
       "      <th>3</th>\n",
       "      <td>2018-01-01</td>\n",
       "      <td>EV</td>\n",
       "      <td>DFW</td>\n",
       "      <td>BHM</td>\n",
       "      <td>1250</td>\n",
       "      <td>1322.0</td>\n",
       "      <td>32.0</td>\n",
       "      <td>14.0</td>\n",
       "      <td>1336.0</td>\n",
       "      <td>1448.0</td>\n",
       "      <td>13.0</td>\n",
       "      <td>1433</td>\n",
       "      <td>1501.0</td>\n",
       "      <td>28.0</td>\n",
       "      <td>0.0</td>\n",
       "      <td>NaN</td>\n",
       "      <td>0.0</td>\n",
       "      <td>103.0</td>\n",
       "      <td>99.0</td>\n",
       "      <td>72.0</td>\n",
       "      <td>597.0</td>\n",
       "      <td>0.0</td>\n",
       "      <td>0.0</td>\n",
       "      <td>0.0</td>\n",
       "      <td>0.0</td>\n",
       "      <td>28.0</td>\n",
       "      <td>delay</td>\n",
       "      <td>delay</td>\n",
       "      <td>0</td>\n",
       "      <td>0</td>\n",
       "    </tr>\n",
       "    <tr>\n",
       "      <th>4</th>\n",
       "      <td>2018-01-01</td>\n",
       "      <td>EV</td>\n",
       "      <td>EWR</td>\n",
       "      <td>PVD</td>\n",
       "      <td>1103</td>\n",
       "      <td>1058.0</td>\n",
       "      <td>-5.0</td>\n",
       "      <td>14.0</td>\n",
       "      <td>1112.0</td>\n",
       "      <td>1145.0</td>\n",
       "      <td>8.0</td>\n",
       "      <td>1213</td>\n",
       "      <td>1153.0</td>\n",
       "      <td>-20.0</td>\n",
       "      <td>0.0</td>\n",
       "      <td>NaN</td>\n",
       "      <td>0.0</td>\n",
       "      <td>70.0</td>\n",
       "      <td>55.0</td>\n",
       "      <td>33.0</td>\n",
       "      <td>160.0</td>\n",
       "      <td>NaN</td>\n",
       "      <td>NaN</td>\n",
       "      <td>NaN</td>\n",
       "      <td>NaN</td>\n",
       "      <td>NaN</td>\n",
       "      <td>ontime</td>\n",
       "      <td>early</td>\n",
       "      <td>2</td>\n",
       "      <td>1</td>\n",
       "    </tr>\n",
       "  </tbody>\n",
       "</table>\n",
       "</div>"
      ],
      "text/plain": [
       "        date airline origin dest  crs_dep_time  dep_time  dep_delay  taxi_out  \\\n",
       "0 2018-01-01      UA    IAD  EWR          1717    1738.0       21.0      23.0   \n",
       "1 2018-01-01      UA    MIA  ORD          1226    1217.0       -9.0      16.0   \n",
       "2 2018-01-01      AS    IAH  SEA          1925    1947.0       22.0      15.0   \n",
       "3 2018-01-01      EV    DFW  BHM          1250    1322.0       32.0      14.0   \n",
       "4 2018-01-01      EV    EWR  PVD          1103    1058.0       -5.0      14.0   \n",
       "\n",
       "   wheels_off  wheels_on  taxi_in  crs_arr_time  arr_time  arr_delay  \\\n",
       "0      1801.0     1837.0      6.0          1845    1843.0       -2.0   \n",
       "1      1233.0     1421.0      3.0          1448    1424.0      -24.0   \n",
       "2      2002.0     2228.0     10.0          2225    2238.0       13.0   \n",
       "3      1336.0     1448.0     13.0          1433    1501.0       28.0   \n",
       "4      1112.0     1145.0      8.0          1213    1153.0      -20.0   \n",
       "\n",
       "   cancelled cancellation_code  diverted  crs_elapsed_time  \\\n",
       "0        0.0               NaN       0.0              88.0   \n",
       "1        0.0               NaN       0.0             202.0   \n",
       "2        0.0               NaN       0.0             300.0   \n",
       "3        0.0               NaN       0.0             103.0   \n",
       "4        0.0               NaN       0.0              70.0   \n",
       "\n",
       "   actual_elapsed_time  air_time  distance  carrier_delay  weather_delay  \\\n",
       "0                 65.0      36.0     212.0            NaN            NaN   \n",
       "1                187.0     168.0    1197.0            NaN            NaN   \n",
       "2                291.0     266.0    1874.0            NaN            NaN   \n",
       "3                 99.0      72.0     597.0            0.0            0.0   \n",
       "4                 55.0      33.0     160.0            NaN            NaN   \n",
       "\n",
       "   nas_delay  security_delay  late_aircraft_delay dep_status arr_status  \\\n",
       "0        NaN             NaN                  NaN      delay     ontime   \n",
       "1        NaN             NaN                  NaN      early      early   \n",
       "2        NaN             NaN                  NaN      delay      delay   \n",
       "3        0.0             0.0                 28.0      delay      delay   \n",
       "4        NaN             NaN                  NaN     ontime      early   \n",
       "\n",
       "   dep_status_label  arr_status_label  \n",
       "0                 0                 2  \n",
       "1                 1                 1  \n",
       "2                 0                 0  \n",
       "3                 0                 0  \n",
       "4                 2                 1  "
      ]
     },
     "execution_count": 181,
     "metadata": {},
     "output_type": "execute_result"
    }
   ],
   "source": [
    "# view dataframe with label encoded columns\n",
    "df.head()"
   ]
  },
  {
   "cell_type": "code",
   "execution_count": 182,
   "metadata": {
    "id": "eeGJc6tYZDB6"
   },
   "outputs": [],
   "source": [
    "# extract month from date to use as a feature for ML models\n",
    "df['month'] = df['date'].dt.month"
   ]
  },
  {
   "cell_type": "markdown",
   "metadata": {
    "id": "mQ6DAohERuuz"
   },
   "source": [
    "## Exploratory Data Analysis\n",
    "**Goal:** Explore features that might be indicative of flight arrival status\n",
    "\n",
    "**Note:** In my original project, I explored more features, but reduced it for this sample.\n",
    "\n",
    "**Explored Features:**\n",
    "\n",
    "*   flight distance\n",
    "*   scheduled departure time\n",
    "*   total air time\n"
   ]
  },
  {
   "cell_type": "code",
   "execution_count": 183,
   "metadata": {
    "id": "o-7xsj0rWHHk"
   },
   "outputs": [],
   "source": [
    "# load packages\n",
    "from matplotlib import pyplot as plt\n",
    "import seaborn as sns"
   ]
  },
  {
   "cell_type": "code",
   "execution_count": 184,
   "metadata": {
    "colab": {
     "base_uri": "https://localhost:8080/",
     "height": 563
    },
    "id": "UF88uIBwWRXS",
    "outputId": "cdb4984b-ca99-4e0e-944e-e36619b7aa71"
   },
   "outputs": [
    {
     "data": {
      "image/png": "[encoded data removed]",
      "text/plain": [
       "<Figure size 640x480 with 1 Axes>"
      ]
     },
     "metadata": {},
     "output_type": "display_data"
    }
   ],
   "source": [
    "# visualize distribution and median flight distance grouped by arrival status\n",
    "\n",
    "# create color palette\n",
    "my_palette = {'ontime':'tab:blue', 'early':'tab:olive', 'delay':'tab:red'}\n",
    "\n",
    "# boxplot visualization\n",
    "sns.boxplot(x='arr_status', y='distance', data=df, hue='arr_status', palette=my_palette, legend=False)\n",
    "\n",
    "# add labels and organize boxplot axes\n",
    "plt.ylabel('Flight Distance (miles)', fontsize=14)\n",
    "plt.xlabel('Arrival Status', fontsize=14)\n",
    "plt.xticks([0,1,2], ['Ontime', 'Early', 'Delayed'])\n",
    "\n",
    "# show plot\n",
    "plt.show()"
   ]
  },
  {
   "cell_type": "code",
   "execution_count": 185,
   "metadata": {
    "colab": {
     "base_uri": "https://localhost:8080/",
     "height": 563
    },
    "id": "7y6E4Rx4hXLG",
    "outputId": "4239dabf-9cf3-428d-e76e-f53443b38fe1"
   },
   "outputs": [
    {
     "data": {
      "image/png": "[encoded data removed]",
      "text/plain": [
       "<Figure size 640x480 with 1 Axes>"
      ]
     },
     "metadata": {},
     "output_type": "display_data"
    }
   ],
   "source": [
    "# visualize relationship between total time in the air and flight arrival status\n",
    "\n",
    "sns.boxplot(x='arr_status', y='air_time', data=df, hue='arr_status', palette=my_palette, legend=False)\n",
    "\n",
    "plt.ylabel('Air Time (minutes)', fontsize=14)\n",
    "plt.xlabel('Arrival Status', fontsize=14)\n",
    "plt.xticks([0,1,2], ['Ontime', 'Early', 'Delayed'])\n",
    "\n",
    "plt.show()"
   ]
  },
  {
   "cell_type": "code",
   "execution_count": 186,
   "metadata": {
    "colab": {
     "base_uri": "https://localhost:8080/",
     "height": 563
    },
    "id": "9faTTiVOiks9",
    "outputId": "96d22d49-6f40-481c-a372-3cadbb2b5a85"
   },
   "outputs": [
    {
     "data": {
      "image/png": "[encoded data removed]",
      "text/plain": [
       "<Figure size 640x480 with 1 Axes>"
      ]
     },
     "metadata": {},
     "output_type": "display_data"
    }
   ],
   "source": [
    "# visualize relationship between scheduled departure time and flight arrival status\n",
    "\n",
    "sns.boxplot(x='arr_status', y='crs_dep_time', data=df, hue='arr_status', palette=my_palette, legend=False)\n",
    "\n",
    "plt.ylabel('Scheduled Departure Time', fontsize=14)\n",
    "plt.xlabel('Arrival Status', fontsize=14)\n",
    "plt.xticks([0,1,2], ['Early', 'Ontime', 'Delayed'])\n",
    "\n",
    "plt.show()"
   ]
  },
  {
   "cell_type": "markdown",
   "metadata": {
    "id": "pkDRS49l8AK_"
   },
   "source": [
    "## Machine Learning Models\n",
    "\n",
    "**Goal:** Apply three supervised machine learning models to predict flight arrival time (minutes delayed) and status. Then, ensemble the classifiers using Hard Voting to combine their predictions.\n",
    "\n",
    "**Steps:**\n",
    "1.  Identify features to use in each models (use the same features for each)\n",
    "2.  Split the data into training and test sets\n",
    "3.  Linear regression to predict minutes elapsed since expected arrival\n",
    "4.  Logistic regression to predict flight arrival status\n",
    "5.  Decision tree classifier to predict flight arrival status\n",
    "6.  Hard Voting ensemble technique to predict flight arrival status using the logistic regression and DTC "
   ]
  },
  {
   "cell_type": "code",
   "execution_count": 187,
   "metadata": {
    "colab": {
     "base_uri": "https://localhost:8080/"
    },
    "id": "-WX-_XBE8EHu",
    "outputId": "89f0a298-9dc7-4a5b-9739-9d2c09012e86"
   },
   "outputs": [
    {
     "data": {
      "text/plain": [
       "Index(['date', 'airline', 'origin', 'dest', 'crs_dep_time', 'dep_time',\n",
       "       'dep_delay', 'taxi_out', 'wheels_off', 'wheels_on', 'taxi_in',\n",
       "       'crs_arr_time', 'arr_time', 'arr_delay', 'cancelled',\n",
       "       'cancellation_code', 'diverted', 'crs_elapsed_time',\n",
       "       'actual_elapsed_time', 'air_time', 'distance', 'carrier_delay',\n",
       "       'weather_delay', 'nas_delay', 'security_delay', 'late_aircraft_delay',\n",
       "       'dep_status', 'arr_status', 'dep_status_label', 'arr_status_label',\n",
       "       'month'],\n",
       "      dtype='object')"
      ]
     },
     "execution_count": 187,
     "metadata": {},
     "output_type": "execute_result"
    }
   ],
   "source": [
    "# look at potential features\n",
    "df.columns"
   ]
  },
  {
   "cell_type": "code",
   "execution_count": 188,
   "metadata": {
    "colab": {
     "base_uri": "https://localhost:8080/",
     "height": 313
    },
    "id": "GKTyNdZ8-VYm",
    "outputId": "2df58af3-2ed8-41cb-a3da-5ed36ad76b02"
   },
   "outputs": [
    {
     "data": {
      "text/html": [
       "<div>\n",
       "<style scoped>\n",
       "    .dataframe tbody tr th:only-of-type {\n",
       "        vertical-align: middle;\n",
       "    }\n",
       "\n",
       "    .dataframe tbody tr th {\n",
       "        vertical-align: top;\n",
       "    }\n",
       "\n",
       "    .dataframe thead th {\n",
       "        text-align: right;\n",
       "    }\n",
       "</style>\n",
       "<table border=\"1\" class=\"dataframe\">\n",
       "  <thead>\n",
       "    <tr style=\"text-align: right;\">\n",
       "      <th></th>\n",
       "      <th>date</th>\n",
       "      <th>airline</th>\n",
       "      <th>origin</th>\n",
       "      <th>dest</th>\n",
       "      <th>crs_dep_time</th>\n",
       "      <th>dep_time</th>\n",
       "      <th>dep_delay</th>\n",
       "      <th>taxi_out</th>\n",
       "      <th>wheels_off</th>\n",
       "      <th>wheels_on</th>\n",
       "      <th>taxi_in</th>\n",
       "      <th>crs_arr_time</th>\n",
       "      <th>arr_time</th>\n",
       "      <th>arr_delay</th>\n",
       "      <th>cancelled</th>\n",
       "      <th>cancellation_code</th>\n",
       "      <th>diverted</th>\n",
       "      <th>crs_elapsed_time</th>\n",
       "      <th>actual_elapsed_time</th>\n",
       "      <th>air_time</th>\n",
       "      <th>distance</th>\n",
       "      <th>carrier_delay</th>\n",
       "      <th>weather_delay</th>\n",
       "      <th>nas_delay</th>\n",
       "      <th>security_delay</th>\n",
       "      <th>late_aircraft_delay</th>\n",
       "      <th>dep_status</th>\n",
       "      <th>arr_status</th>\n",
       "      <th>dep_status_label</th>\n",
       "      <th>arr_status_label</th>\n",
       "      <th>month</th>\n",
       "    </tr>\n",
       "  </thead>\n",
       "  <tbody>\n",
       "    <tr>\n",
       "      <th>0</th>\n",
       "      <td>2018-01-01</td>\n",
       "      <td>UA</td>\n",
       "      <td>IAD</td>\n",
       "      <td>EWR</td>\n",
       "      <td>1717</td>\n",
       "      <td>1738.0</td>\n",
       "      <td>21.0</td>\n",
       "      <td>23.0</td>\n",
       "      <td>1801.0</td>\n",
       "      <td>1837.0</td>\n",
       "      <td>6.0</td>\n",
       "      <td>1845</td>\n",
       "      <td>1843.0</td>\n",
       "      <td>-2.0</td>\n",
       "      <td>0.0</td>\n",
       "      <td>NaN</td>\n",
       "      <td>0.0</td>\n",
       "      <td>88.0</td>\n",
       "      <td>65.0</td>\n",
       "      <td>36.0</td>\n",
       "      <td>212.0</td>\n",
       "      <td>NaN</td>\n",
       "      <td>NaN</td>\n",
       "      <td>NaN</td>\n",
       "      <td>NaN</td>\n",
       "      <td>NaN</td>\n",
       "      <td>delay</td>\n",
       "      <td>ontime</td>\n",
       "      <td>0</td>\n",
       "      <td>2</td>\n",
       "      <td>1</td>\n",
       "    </tr>\n",
       "    <tr>\n",
       "      <th>1</th>\n",
       "      <td>2018-01-01</td>\n",
       "      <td>UA</td>\n",
       "      <td>MIA</td>\n",
       "      <td>ORD</td>\n",
       "      <td>1226</td>\n",
       "      <td>1217.0</td>\n",
       "      <td>-9.0</td>\n",
       "      <td>16.0</td>\n",
       "      <td>1233.0</td>\n",
       "      <td>1421.0</td>\n",
       "      <td>3.0</td>\n",
       "      <td>1448</td>\n",
       "      <td>1424.0</td>\n",
       "      <td>-24.0</td>\n",
       "      <td>0.0</td>\n",
       "      <td>NaN</td>\n",
       "      <td>0.0</td>\n",
       "      <td>202.0</td>\n",
       "      <td>187.0</td>\n",
       "      <td>168.0</td>\n",
       "      <td>1197.0</td>\n",
       "      <td>NaN</td>\n",
       "      <td>NaN</td>\n",
       "      <td>NaN</td>\n",
       "      <td>NaN</td>\n",
       "      <td>NaN</td>\n",
       "      <td>early</td>\n",
       "      <td>early</td>\n",
       "      <td>1</td>\n",
       "      <td>1</td>\n",
       "      <td>1</td>\n",
       "    </tr>\n",
       "    <tr>\n",
       "      <th>2</th>\n",
       "      <td>2018-01-01</td>\n",
       "      <td>AS</td>\n",
       "      <td>IAH</td>\n",
       "      <td>SEA</td>\n",
       "      <td>1925</td>\n",
       "      <td>1947.0</td>\n",
       "      <td>22.0</td>\n",
       "      <td>15.0</td>\n",
       "      <td>2002.0</td>\n",
       "      <td>2228.0</td>\n",
       "      <td>10.0</td>\n",
       "      <td>2225</td>\n",
       "      <td>2238.0</td>\n",
       "      <td>13.0</td>\n",
       "      <td>0.0</td>\n",
       "      <td>NaN</td>\n",
       "      <td>0.0</td>\n",
       "      <td>300.0</td>\n",
       "      <td>291.0</td>\n",
       "      <td>266.0</td>\n",
       "      <td>1874.0</td>\n",
       "      <td>NaN</td>\n",
       "      <td>NaN</td>\n",
       "      <td>NaN</td>\n",
       "      <td>NaN</td>\n",
       "      <td>NaN</td>\n",
       "      <td>delay</td>\n",
       "      <td>delay</td>\n",
       "      <td>0</td>\n",
       "      <td>0</td>\n",
       "      <td>1</td>\n",
       "    </tr>\n",
       "    <tr>\n",
       "      <th>3</th>\n",
       "      <td>2018-01-01</td>\n",
       "      <td>EV</td>\n",
       "      <td>DFW</td>\n",
       "      <td>BHM</td>\n",
       "      <td>1250</td>\n",
       "      <td>1322.0</td>\n",
       "      <td>32.0</td>\n",
       "      <td>14.0</td>\n",
       "      <td>1336.0</td>\n",
       "      <td>1448.0</td>\n",
       "      <td>13.0</td>\n",
       "      <td>1433</td>\n",
       "      <td>1501.0</td>\n",
       "      <td>28.0</td>\n",
       "      <td>0.0</td>\n",
       "      <td>NaN</td>\n",
       "      <td>0.0</td>\n",
       "      <td>103.0</td>\n",
       "      <td>99.0</td>\n",
       "      <td>72.0</td>\n",
       "      <td>597.0</td>\n",
       "      <td>0.0</td>\n",
       "      <td>0.0</td>\n",
       "      <td>0.0</td>\n",
       "      <td>0.0</td>\n",
       "      <td>28.0</td>\n",
       "      <td>delay</td>\n",
       "      <td>delay</td>\n",
       "      <td>0</td>\n",
       "      <td>0</td>\n",
       "      <td>1</td>\n",
       "    </tr>\n",
       "    <tr>\n",
       "      <th>4</th>\n",
       "      <td>2018-01-01</td>\n",
       "      <td>EV</td>\n",
       "      <td>EWR</td>\n",
       "      <td>PVD</td>\n",
       "      <td>1103</td>\n",
       "      <td>1058.0</td>\n",
       "      <td>-5.0</td>\n",
       "      <td>14.0</td>\n",
       "      <td>1112.0</td>\n",
       "      <td>1145.0</td>\n",
       "      <td>8.0</td>\n",
       "      <td>1213</td>\n",
       "      <td>1153.0</td>\n",
       "      <td>-20.0</td>\n",
       "      <td>0.0</td>\n",
       "      <td>NaN</td>\n",
       "      <td>0.0</td>\n",
       "      <td>70.0</td>\n",
       "      <td>55.0</td>\n",
       "      <td>33.0</td>\n",
       "      <td>160.0</td>\n",
       "      <td>NaN</td>\n",
       "      <td>NaN</td>\n",
       "      <td>NaN</td>\n",
       "      <td>NaN</td>\n",
       "      <td>NaN</td>\n",
       "      <td>ontime</td>\n",
       "      <td>early</td>\n",
       "      <td>2</td>\n",
       "      <td>1</td>\n",
       "      <td>1</td>\n",
       "    </tr>\n",
       "  </tbody>\n",
       "</table>\n",
       "</div>"
      ],
      "text/plain": [
       "        date airline origin dest  crs_dep_time  dep_time  dep_delay  taxi_out  \\\n",
       "0 2018-01-01      UA    IAD  EWR          1717    1738.0       21.0      23.0   \n",
       "1 2018-01-01      UA    MIA  ORD          1226    1217.0       -9.0      16.0   \n",
       "2 2018-01-01      AS    IAH  SEA          1925    1947.0       22.0      15.0   \n",
       "3 2018-01-01      EV    DFW  BHM          1250    1322.0       32.0      14.0   \n",
       "4 2018-01-01      EV    EWR  PVD          1103    1058.0       -5.0      14.0   \n",
       "\n",
       "   wheels_off  wheels_on  taxi_in  crs_arr_time  arr_time  arr_delay  \\\n",
       "0      1801.0     1837.0      6.0          1845    1843.0       -2.0   \n",
       "1      1233.0     1421.0      3.0          1448    1424.0      -24.0   \n",
       "2      2002.0     2228.0     10.0          2225    2238.0       13.0   \n",
       "3      1336.0     1448.0     13.0          1433    1501.0       28.0   \n",
       "4      1112.0     1145.0      8.0          1213    1153.0      -20.0   \n",
       "\n",
       "   cancelled cancellation_code  diverted  crs_elapsed_time  \\\n",
       "0        0.0               NaN       0.0              88.0   \n",
       "1        0.0               NaN       0.0             202.0   \n",
       "2        0.0               NaN       0.0             300.0   \n",
       "3        0.0               NaN       0.0             103.0   \n",
       "4        0.0               NaN       0.0              70.0   \n",
       "\n",
       "   actual_elapsed_time  air_time  distance  carrier_delay  weather_delay  \\\n",
       "0                 65.0      36.0     212.0            NaN            NaN   \n",
       "1                187.0     168.0    1197.0            NaN            NaN   \n",
       "2                291.0     266.0    1874.0            NaN            NaN   \n",
       "3                 99.0      72.0     597.0            0.0            0.0   \n",
       "4                 55.0      33.0     160.0            NaN            NaN   \n",
       "\n",
       "   nas_delay  security_delay  late_aircraft_delay dep_status arr_status  \\\n",
       "0        NaN             NaN                  NaN      delay     ontime   \n",
       "1        NaN             NaN                  NaN      early      early   \n",
       "2        NaN             NaN                  NaN      delay      delay   \n",
       "3        0.0             0.0                 28.0      delay      delay   \n",
       "4        NaN             NaN                  NaN     ontime      early   \n",
       "\n",
       "   dep_status_label  arr_status_label  month  \n",
       "0                 0                 2      1  \n",
       "1                 1                 1      1  \n",
       "2                 0                 0      1  \n",
       "3                 0                 0      1  \n",
       "4                 2                 1      1  "
      ]
     },
     "execution_count": 188,
     "metadata": {},
     "output_type": "execute_result"
    }
   ],
   "source": [
    "# view dataframe\n",
    "df.head()"
   ]
  },
  {
   "cell_type": "code",
   "execution_count": 189,
   "metadata": {
    "colab": {
     "base_uri": "https://localhost:8080/"
    },
    "id": "7Ki7MCCn-Cs7",
    "outputId": "abd207f7-1571-45dd-edb3-21127f86e9d2"
   },
   "outputs": [
    {
     "data": {
      "text/plain": [
       "date                   datetime64[ns]\n",
       "airline                        object\n",
       "origin                         object\n",
       "dest                           object\n",
       "crs_dep_time                    int64\n",
       "dep_time                      float64\n",
       "dep_delay                     float64\n",
       "taxi_out                      float64\n",
       "wheels_off                    float64\n",
       "wheels_on                     float64\n",
       "taxi_in                       float64\n",
       "crs_arr_time                    int64\n",
       "arr_time                      float64\n",
       "arr_delay                     float64\n",
       "cancelled                     float64\n",
       "cancellation_code              object\n",
       "diverted                      float64\n",
       "crs_elapsed_time              float64\n",
       "actual_elapsed_time           float64\n",
       "air_time                      float64\n",
       "distance                      float64\n",
       "carrier_delay                 float64\n",
       "weather_delay                 float64\n",
       "nas_delay                     float64\n",
       "security_delay                float64\n",
       "late_aircraft_delay           float64\n",
       "dep_status             string[python]\n",
       "arr_status             string[python]\n",
       "dep_status_label                int64\n",
       "arr_status_label                int64\n",
       "month                           int32\n",
       "dtype: object"
      ]
     },
     "execution_count": 189,
     "metadata": {},
     "output_type": "execute_result"
    }
   ],
   "source": [
    "# understand datatypes since classifiers prefer numerical values\n",
    "df.dtypes"
   ]
  },
  {
   "cell_type": "code",
   "execution_count": 190,
   "metadata": {
    "id": "gHy2C0CgAtRL"
   },
   "outputs": [],
   "source": [
    "# label encode essential object features\n",
    "airline_le = LabelEncoder()\n",
    "df['airline'] = airline_le.fit_transform(df['airline'])\n",
    "\n",
    "origin_le = LabelEncoder()\n",
    "df['origin'] = origin_le.fit_transform(df['origin'])\n",
    "\n",
    "dest_le = LabelEncoder()\n",
    "df['dest'] = dest_le.fit_transform(df['dest'])"
   ]
  },
  {
   "cell_type": "code",
   "execution_count": 191,
   "metadata": {
    "id": "L4nHAK6v8IaF"
   },
   "outputs": [],
   "source": [
    "# load packages\n",
    "from sklearn.model_selection import train_test_split\n",
    "from sklearn.linear_model import LinearRegression\n",
    "from sklearn.metrics import mean_squared_error"
   ]
  },
  {
   "cell_type": "markdown",
   "metadata": {},
   "source": [
    "### Linear Regression"
   ]
  },
  {
   "cell_type": "code",
   "execution_count": 192,
   "metadata": {
    "id": "pmfk733dCP7t"
   },
   "outputs": [],
   "source": [
    "# subset dataframe to columns of interest\n",
    "linear_df = df[['arr_delay','cancelled','airline','origin','dest','crs_dep_time','dep_time','dep_delay','taxi_out','wheels_off','crs_arr_time','distance','month', 'arr_status', 'arr_status_label']]"
   ]
  },
  {
   "cell_type": "code",
   "execution_count": 193,
   "metadata": {
    "id": "L1ZjPtyrCg2O"
   },
   "outputs": [],
   "source": [
    "# make sure to only keep flights that are NOT cancelled\n",
    "linear_df = linear_df[linear_df['cancelled']!=1]"
   ]
  },
  {
   "cell_type": "code",
   "execution_count": 194,
   "metadata": {
    "colab": {
     "base_uri": "https://localhost:8080/"
    },
    "id": "ABbBVe_ECZ2p",
    "outputId": "2814fb6e-1666-4841-8305-1546a6530b9f"
   },
   "outputs": [
    {
     "data": {
      "text/plain": [
       "arr_delay           0\n",
       "cancelled           0\n",
       "airline             0\n",
       "origin              0\n",
       "dest                0\n",
       "crs_dep_time        0\n",
       "dep_time            0\n",
       "dep_delay           0\n",
       "taxi_out            0\n",
       "wheels_off          0\n",
       "crs_arr_time        0\n",
       "distance            0\n",
       "month               0\n",
       "arr_status          0\n",
       "arr_status_label    0\n",
       "dtype: int64"
      ]
     },
     "execution_count": 194,
     "metadata": {},
     "output_type": "execute_result"
    }
   ],
   "source": [
    "# ensure there are no NA values\n",
    "linear_df.isna().sum()"
   ]
  },
  {
   "cell_type": "code",
   "execution_count": 195,
   "metadata": {
    "colab": {
     "base_uri": "https://localhost:8080/"
    },
    "id": "iam9wzCbCn1D",
    "outputId": "bb6083c6-a95b-4a10-ad16-408a5c537ac4"
   },
   "outputs": [
    {
     "data": {
      "text/plain": [
       "(29482, 15)"
      ]
     },
     "execution_count": 195,
     "metadata": {},
     "output_type": "execute_result"
    }
   ],
   "source": [
    "# understand the shape of the subsetted dataframe\n",
    "linear_df.shape"
   ]
  },
  {
   "cell_type": "code",
   "execution_count": 196,
   "metadata": {
    "id": "CyZRlA_1ANzJ"
   },
   "outputs": [],
   "source": [
    "# split the data fram so 30% of the data is in the test_df and 70% is in train_df\n",
    "train_df, test_df = train_test_split(linear_df, test_size=0.3)"
   ]
  },
  {
   "cell_type": "code",
   "execution_count": 197,
   "metadata": {
    "id": "OMYv05WuAjXb"
   },
   "outputs": [],
   "source": [
    "# specify features to use for EVERY ML model\n",
    "cols_to_use = ['airline','origin','dest','crs_dep_time','dep_time','dep_delay','taxi_out','wheels_off','crs_arr_time','distance','month']\n",
    "\n",
    "# train data is used to train our models - used to understand trends around arrial status\n",
    "X_train = train_df[cols_to_use]\n",
    "y_train = train_df['arr_delay']\n",
    "\n",
    "# test data is used to test our models - used to make predictions\n",
    "X_test = test_df[cols_to_use]\n",
    "y_test = test_df['arr_delay']"
   ]
  },
  {
   "cell_type": "code",
   "execution_count": 198,
   "metadata": {
    "colab": {
     "base_uri": "https://localhost:8080/",
     "height": 75
    },
    "id": "5TeH1ZUvBmRE",
    "outputId": "2c645459-22b0-40b6-e948-2fd3885c562b"
   },
   "outputs": [
    {
     "data": {
      "text/html": [
       "<style>#sk-container-id-9 {color: black;background-color: white;}#sk-container-id-9 pre{padding: 0;}#sk-container-id-9 div.sk-toggleable {background-color: white;}#sk-container-id-9 label.sk-toggleable__label {cursor: pointer;display: block;width: 100%;margin-bottom: 0;padding: 0.3em;box-sizing: border-box;text-align: center;}#sk-container-id-9 label.sk-toggleable__label-arrow:before {content: \"▸\";float: left;margin-right: 0.25em;color: #696969;}#sk-container-id-9 label.sk-toggleable__label-arrow:hover:before {color: black;}#sk-container-id-9 div.sk-estimator:hover label.sk-toggleable__label-arrow:before {color: black;}#sk-container-id-9 div.sk-toggleable__content {max-height: 0;max-width: 0;overflow: hidden;text-align: left;background-color: #f0f8ff;}#sk-container-id-9 div.sk-toggleable__content pre {margin: 0.2em;color: black;border-radius: 0.25em;background-color: #f0f8ff;}#sk-container-id-9 input.sk-toggleable__control:checked~div.sk-toggleable__content {max-height: 200px;max-width: 100%;overflow: auto;}#sk-container-id-9 input.sk-toggleable__control:checked~label.sk-toggleable__label-arrow:before {content: \"▾\";}#sk-container-id-9 div.sk-estimator input.sk-toggleable__control:checked~label.sk-toggleable__label {background-color: #d4ebff;}#sk-container-id-9 div.sk-label input.sk-toggleable__control:checked~label.sk-toggleable__label {background-color: #d4ebff;}#sk-container-id-9 input.sk-hidden--visually {border: 0;clip: rect(1px 1px 1px 1px);clip: rect(1px, 1px, 1px, 1px);height: 1px;margin: -1px;overflow: hidden;padding: 0;position: absolute;width: 1px;}#sk-container-id-9 div.sk-estimator {font-family: monospace;background-color: #f0f8ff;border: 1px dotted black;border-radius: 0.25em;box-sizing: border-box;margin-bottom: 0.5em;}#sk-container-id-9 div.sk-estimator:hover {background-color: #d4ebff;}#sk-container-id-9 div.sk-parallel-item::after {content: \"\";width: 100%;border-bottom: 1px solid gray;flex-grow: 1;}#sk-container-id-9 div.sk-label:hover label.sk-toggleable__label {background-color: #d4ebff;}#sk-container-id-9 div.sk-serial::before {content: \"\";position: absolute;border-left: 1px solid gray;box-sizing: border-box;top: 0;bottom: 0;left: 50%;z-index: 0;}#sk-container-id-9 div.sk-serial {display: flex;flex-direction: column;align-items: center;background-color: white;padding-right: 0.2em;padding-left: 0.2em;position: relative;}#sk-container-id-9 div.sk-item {position: relative;z-index: 1;}#sk-container-id-9 div.sk-parallel {display: flex;align-items: stretch;justify-content: center;background-color: white;position: relative;}#sk-container-id-9 div.sk-item::before, #sk-container-id-9 div.sk-parallel-item::before {content: \"\";position: absolute;border-left: 1px solid gray;box-sizing: border-box;top: 0;bottom: 0;left: 50%;z-index: -1;}#sk-container-id-9 div.sk-parallel-item {display: flex;flex-direction: column;z-index: 1;position: relative;background-color: white;}#sk-container-id-9 div.sk-parallel-item:first-child::after {align-self: flex-end;width: 50%;}#sk-container-id-9 div.sk-parallel-item:last-child::after {align-self: flex-start;width: 50%;}#sk-container-id-9 div.sk-parallel-item:only-child::after {width: 0;}#sk-container-id-9 div.sk-dashed-wrapped {border: 1px dashed gray;margin: 0 0.4em 0.5em 0.4em;box-sizing: border-box;padding-bottom: 0.4em;background-color: white;}#sk-container-id-9 div.sk-label label {font-family: monospace;font-weight: bold;display: inline-block;line-height: 1.2em;}#sk-container-id-9 div.sk-label-container {text-align: center;}#sk-container-id-9 div.sk-container {/* jupyter's `normalize.less` sets `[hidden] { display: none; }` but bootstrap.min.css set `[hidden] { display: none !important; }` so we also need the `!important` here to be able to override the default hidden behavior on the sphinx rendered scikit-learn.org. See: https://github.com/scikit-learn/scikit-learn/issues/21755 */display: inline-block !important;position: relative;}#sk-container-id-9 div.sk-text-repr-fallback {display: none;}</style><div id=\"sk-container-id-9\" class=\"sk-top-container\"><div class=\"sk-text-repr-fallback\"><pre>LinearRegression()</pre><b>In a Jupyter environment, please rerun this cell to show the HTML representation or trust the notebook. <br />On GitHub, the HTML representation is unable to render, please try loading this page with nbviewer.org.</b></div><div class=\"sk-container\" hidden><div class=\"sk-item\"><div class=\"sk-estimator sk-toggleable\"><input class=\"sk-toggleable__control sk-hidden--visually\" id=\"sk-estimator-id-21\" type=\"checkbox\" checked><label for=\"sk-estimator-id-21\" class=\"sk-toggleable__label sk-toggleable__label-arrow\">LinearRegression</label><div class=\"sk-toggleable__content\"><pre>LinearRegression()</pre></div></div></div></div></div>"
      ],
      "text/plain": [
       "LinearRegression()"
      ]
     },
     "execution_count": 198,
     "metadata": {},
     "output_type": "execute_result"
    }
   ],
   "source": [
    "# instantiate LinearRegression model\n",
    "lr = LinearRegression()\n",
    "\n",
    "# fit model\n",
    "lr.fit(X_train,y_train)"
   ]
  },
  {
   "cell_type": "code",
   "execution_count": 199,
   "metadata": {
    "id": "0ehtiDCXBrwP"
   },
   "outputs": [],
   "source": [
    "# extract predictions\n",
    "preds = lr.predict(X_test)"
   ]
  },
  {
   "cell_type": "code",
   "execution_count": 200,
   "metadata": {
    "colab": {
     "base_uri": "https://localhost:8080/"
    },
    "id": "7tU7lKS7BvBT",
    "outputId": "cbc5e0a6-e8cf-4648-bc86-a07e3b09216b"
   },
   "outputs": [
    {
     "data": {
      "text/plain": [
       "array([ 1.46857002e-01,  3.86385528e-03,  3.67855772e-03, -7.79911247e-04,\n",
       "       -4.44697751e-04,  9.95619662e-01,  7.79006038e-01,  9.02950134e-04,\n",
       "       -1.76432757e-04, -3.21900012e-03,  1.38772902e-02])"
      ]
     },
     "execution_count": 200,
     "metadata": {},
     "output_type": "execute_result"
    }
   ],
   "source": [
    "# visulize weights (importance) assigned to each feature included in the model\n",
    "lr.coef_"
   ]
  },
  {
   "cell_type": "code",
   "execution_count": 201,
   "metadata": {
    "colab": {
     "base_uri": "https://localhost:8080/"
    },
    "id": "tDijFAEIBwHJ",
    "outputId": "7a10d0da-de92-4eba-9eca-6671a9a688fd"
   },
   "outputs": [
    {
     "data": {
      "text/plain": [
       "-17.28678932095253"
      ]
     },
     "execution_count": 201,
     "metadata": {},
     "output_type": "execute_result"
    }
   ],
   "source": [
    "# visualize the baseline prediction\n",
    "# here we see most flights are predicted to arrive approx 18 minutes early\n",
    "lr.intercept_"
   ]
  },
  {
   "cell_type": "code",
   "execution_count": 202,
   "metadata": {
    "colab": {
     "base_uri": "https://localhost:8080/",
     "height": 471
    },
    "id": "Jcn3l7sDDGLf",
    "outputId": "d878839c-75ad-409d-ea19-3ed42db6cfda"
   },
   "outputs": [
    {
     "data": {
      "text/plain": [
       "Text(0, 0.5, 'Predicted Arrival Delay Time')"
      ]
     },
     "execution_count": 202,
     "metadata": {},
     "output_type": "execute_result"
    },
    {
     "data": {
      "image/png": "[encoded data removed]",
      "text/plain": [
       "<Figure size 640x480 with 1 Axes>"
      ]
     },
     "metadata": {},
     "output_type": "display_data"
    }
   ],
   "source": [
    "# relationship between actual arrival times and predicted arrival times\n",
    "plt.scatter(y_test, preds)\n",
    "plt.axline((-50,-50), slope=1, color='red') # line for reference\n",
    "plt.xlabel('Actual Arrival Delay Time', fontsize=12)\n",
    "plt.ylabel('Predicted Arrival Delay Time', fontsize=12)"
   ]
  },
  {
   "cell_type": "code",
   "execution_count": 203,
   "metadata": {
    "colab": {
     "base_uri": "https://localhost:8080/",
     "height": 477
    },
    "id": "_MLVv1qyNrG7",
    "outputId": "43eb5cb9-c923-45c8-e768-f9fee76d30ca"
   },
   "outputs": [
    {
     "data": {
      "text/plain": [
       "(-50.0, 400.0)"
      ]
     },
     "execution_count": 203,
     "metadata": {},
     "output_type": "execute_result"
    },
    {
     "data": {
      "image/png": "[encoded data removed]",
      "text/plain": [
       "<Figure size 640x480 with 1 Axes>"
      ]
     },
     "metadata": {},
     "output_type": "display_data"
    }
   ],
   "source": [
    "# zoomed-in scatter plot to focus on non-outlier looking predictions\n",
    "plt.scatter(y_test, preds)\n",
    "plt.axline((-50,-50), slope=1, color='red')\n",
    "plt.xlabel('Actual Arrival Delay Time', fontsize=12)\n",
    "plt.ylabel('Predicted Arrival Delay Time', fontsize=12)\n",
    "plt.ylim((-50,400))\n",
    "plt.xlim((-50,400))"
   ]
  },
  {
   "cell_type": "code",
   "execution_count": 204,
   "metadata": {
    "id": "ooLnFYkGMQWc"
   },
   "outputs": [],
   "source": [
    "# MSE = how far off prediciton is from true value\n",
    "mse = mean_squared_error(y_test, preds)\n",
    "# R-squared = how well the model explains the variance in arrival delay time\n",
    "r2 = lr.score(X_test, y_test)"
   ]
  },
  {
   "cell_type": "code",
   "execution_count": 205,
   "metadata": {
    "colab": {
     "base_uri": "https://localhost:8080/"
    },
    "id": "7erjoLPlM7Ej",
    "outputId": "0dc9a16d-0083-4ec0-ddfc-8846df79b6fa"
   },
   "outputs": [
    {
     "name": "stdout",
     "output_type": "stream",
     "text": [
      "mean squared error:  121.59659638173727\n",
      "r2:  0.9461557946912054\n"
     ]
    }
   ],
   "source": [
    "print('mean squared error: ', mse)\n",
    "# relatively high MSE, but it is subjective\n",
    "print('r2: ', r2)\n",
    "# fairly strong R-squared value, indicates that our model fits fairly well"
   ]
  },
  {
   "cell_type": "markdown",
   "metadata": {
    "id": "r_fR0pGfNpai"
   },
   "source": [
    "### Logistic Regression"
   ]
  },
  {
   "cell_type": "code",
   "execution_count": 206,
   "metadata": {
    "id": "lbfFVzK1bqBD"
   },
   "outputs": [],
   "source": [
    "# create copy of subsetted dataframe\n",
    "logistic_df = linear_df.copy()"
   ]
  },
  {
   "cell_type": "code",
   "execution_count": 207,
   "metadata": {
    "id": "DVhLM9QVcCGt"
   },
   "outputs": [],
   "source": [
    "# create same test_df and train_df sizes\n",
    "train_df, test_df = train_test_split(logistic_df, test_size=0.3)"
   ]
  },
  {
   "cell_type": "code",
   "execution_count": 208,
   "metadata": {
    "id": "eW1tIVVBOiE-"
   },
   "outputs": [],
   "source": [
    "# specify training features and dependent variable for test and training sets\n",
    "X_train = train_df[cols_to_use]\n",
    "y_train = train_df['arr_status']\n",
    "\n",
    "X_test = test_df[cols_to_use]\n",
    "y_test = test_df['arr_status']"
   ]
  },
  {
   "cell_type": "code",
   "execution_count": 209,
   "metadata": {
    "id": "IAZUaVT3OSZj"
   },
   "outputs": [],
   "source": [
    "# import logistic regression related packages\n",
    "from sklearn.linear_model import LogisticRegression\n",
    "from sklearn.preprocessing import StandardScaler\n",
    "from sklearn.metrics import roc_auc_score, confusion_matrix, ConfusionMatrixDisplay, accuracy_score"
   ]
  },
  {
   "cell_type": "code",
   "execution_count": 210,
   "metadata": {},
   "outputs": [],
   "source": [
    "# normalize data to account for features with different units/ranges\n",
    "scaler = StandardScaler()\n",
    "X_train_scaled = scaler.fit_transform(X_train)\n",
    "X_test_scaled = scaler.transform(X_test)"
   ]
  },
  {
   "cell_type": "code",
   "execution_count": 211,
   "metadata": {
    "id": "5j-eq9ArOWUz"
   },
   "outputs": [],
   "source": [
    "# instantiate logistic regression model\n",
    "clf = LogisticRegression(max_iter=1000)"
   ]
  },
  {
   "cell_type": "code",
   "execution_count": 212,
   "metadata": {
    "colab": {
     "base_uri": "https://localhost:8080/"
    },
    "id": "sMC1JEhyciq_",
    "outputId": "c61f11ae-66f9-4152-e381-a503430e0b9b"
   },
   "outputs": [],
   "source": [
    "# fit the logistic regression model and extract predictions\n",
    "clf.fit(X_train_scaled, y_train)\n",
    "test_pred = clf.predict(X_test_scaled)"
   ]
  },
  {
   "cell_type": "code",
   "execution_count": 213,
   "metadata": {
    "id": "skaGkilPcu2Z"
   },
   "outputs": [],
   "source": [
    "# create method to print accuracy and confusion matrix\n",
    "def logistic_info(pred, true, cols):\n",
    "  print('Accuracy:', (accuracy_score(true, pred))*100,'%')\n",
    "  cm = confusion_matrix(true, pred, labels=clf.classes_)\n",
    "  disp = ConfusionMatrixDisplay.from_estimator(clf, cols, true, normalize='true')"
   ]
  },
  {
   "cell_type": "code",
   "execution_count": 214,
   "metadata": {
    "colab": {
     "base_uri": "https://localhost:8080/",
     "height": 467
    },
    "id": "UWEw8Q5Hcx9X",
    "outputId": "259aff02-65e1-478e-e83b-eab0459e2b82"
   },
   "outputs": [
    {
     "name": "stdout",
     "output_type": "stream",
     "text": [
      "Accuracy: 72.58338044092709 %\n"
     ]
    },
    {
     "data": {
      "image/png": "[encoded data removed]",
      "text/plain": [
       "<Figure size 640x480 with 2 Axes>"
      ]
     },
     "metadata": {},
     "output_type": "display_data"
    }
   ],
   "source": [
    "# visualize accuracy and confusion matrix\n",
    "logistic_info(test_pred, y_test, X_test_scaled)"
   ]
  },
  {
   "cell_type": "markdown",
   "metadata": {
    "id": "ZJgUoKp7OkjU"
   },
   "source": [
    "### Decision Tree Classifier\n",
    "\n",
    "**Note:** Grid searches allow us to fine tune parameters of the DTC and prevent overfitting\n",
    "*  min_samples_split: specifies how minimum samples required before a node can split further (flights that justify the split)\n",
    "    *  nodes cannot contain less than this number of flights\n",
    "*  max_depth: number of levels of node splits\n",
    "*  min_samples_leaf: minimum number of samples a leaf node must contain\n",
    "    *  good for imbalanced data (like this dataset, majority of flights are ontime)"
   ]
  },
  {
   "cell_type": "code",
   "execution_count": 215,
   "metadata": {},
   "outputs": [],
   "source": [
    "# create copy of subsetted data\n",
    "classifier_df = linear_df.copy()"
   ]
  },
  {
   "cell_type": "code",
   "execution_count": 216,
   "metadata": {
    "id": "HBPu3Z1cPdkL"
   },
   "outputs": [],
   "source": [
    "# split up training and testing dataframes\n",
    "train_df, test_df = train_test_split(classifier_df, test_size=0.3)"
   ]
  },
  {
   "cell_type": "code",
   "execution_count": 217,
   "metadata": {
    "id": "5rGWw47_PaAY"
   },
   "outputs": [],
   "source": [
    "# split dataframes into features and dependent variable\n",
    "X_train = train_df[cols_to_use]\n",
    "y_train = train_df['arr_status_label']\n",
    "\n",
    "X_test = test_df[cols_to_use]\n",
    "y_test = test_df['arr_status_label']"
   ]
  },
  {
   "cell_type": "code",
   "execution_count": 218,
   "metadata": {
    "id": "DshvMcW0OnCt"
   },
   "outputs": [],
   "source": [
    "# important packages relevant to DTC\n",
    "from sklearn.tree import DecisionTreeClassifier\n",
    "from sklearn.model_selection import GridSearchCV"
   ]
  },
  {
   "cell_type": "code",
   "execution_count": 219,
   "metadata": {
    "id": "Sh-zkLP1PEbr"
   },
   "outputs": [],
   "source": [
    "# parameter grid 1\n",
    "hyperparam_grid1 = {'min_samples_split': [2, 10, 25, 50],\n",
    "                    'max_depth': [2, 5, 10, 15],\n",
    "                    'min_samples_leaf':[2, 10, 25, 50]}"
   ]
  },
  {
   "cell_type": "code",
   "execution_count": 220,
   "metadata": {
    "id": "TbI7hazZPGOG"
   },
   "outputs": [],
   "source": [
    "# instantiate DTC\n",
    "dtc = DecisionTreeClassifier()"
   ]
  },
  {
   "cell_type": "code",
   "execution_count": 221,
   "metadata": {
    "id": "Ouccdh_FPH2I"
   },
   "outputs": [],
   "source": [
    "# instantiate grid search\n",
    "grid_search1 = GridSearchCV(dtc, hyperparam_grid1, n_jobs=-1)"
   ]
  },
  {
   "cell_type": "code",
   "execution_count": 222,
   "metadata": {
    "colab": {
     "base_uri": "https://localhost:8080/",
     "height": 118
    },
    "id": "JfUpdhQ7PJts",
    "outputId": "db5eb820-dd17-4352-ad0c-9cc7e932e6bc"
   },
   "outputs": [
    {
     "data": {
      "text/html": [
       "<style>#sk-container-id-10 {color: black;background-color: white;}#sk-container-id-10 pre{padding: 0;}#sk-container-id-10 div.sk-toggleable {background-color: white;}#sk-container-id-10 label.sk-toggleable__label {cursor: pointer;display: block;width: 100%;margin-bottom: 0;padding: 0.3em;box-sizing: border-box;text-align: center;}#sk-container-id-10 label.sk-toggleable__label-arrow:before {content: \"▸\";float: left;margin-right: 0.25em;color: #696969;}#sk-container-id-10 label.sk-toggleable__label-arrow:hover:before {color: black;}#sk-container-id-10 div.sk-estimator:hover label.sk-toggleable__label-arrow:before {color: black;}#sk-container-id-10 div.sk-toggleable__content {max-height: 0;max-width: 0;overflow: hidden;text-align: left;background-color: #f0f8ff;}#sk-container-id-10 div.sk-toggleable__content pre {margin: 0.2em;color: black;border-radius: 0.25em;background-color: #f0f8ff;}#sk-container-id-10 input.sk-toggleable__control:checked~div.sk-toggleable__content {max-height: 200px;max-width: 100%;overflow: auto;}#sk-container-id-10 input.sk-toggleable__control:checked~label.sk-toggleable__label-arrow:before {content: \"▾\";}#sk-container-id-10 div.sk-estimator input.sk-toggleable__control:checked~label.sk-toggleable__label {background-color: #d4ebff;}#sk-container-id-10 div.sk-label input.sk-toggleable__control:checked~label.sk-toggleable__label {background-color: #d4ebff;}#sk-container-id-10 input.sk-hidden--visually {border: 0;clip: rect(1px 1px 1px 1px);clip: rect(1px, 1px, 1px, 1px);height: 1px;margin: -1px;overflow: hidden;padding: 0;position: absolute;width: 1px;}#sk-container-id-10 div.sk-estimator {font-family: monospace;background-color: #f0f8ff;border: 1px dotted black;border-radius: 0.25em;box-sizing: border-box;margin-bottom: 0.5em;}#sk-container-id-10 div.sk-estimator:hover {background-color: #d4ebff;}#sk-container-id-10 div.sk-parallel-item::after {content: \"\";width: 100%;border-bottom: 1px solid gray;flex-grow: 1;}#sk-container-id-10 div.sk-label:hover label.sk-toggleable__label {background-color: #d4ebff;}#sk-container-id-10 div.sk-serial::before {content: \"\";position: absolute;border-left: 1px solid gray;box-sizing: border-box;top: 0;bottom: 0;left: 50%;z-index: 0;}#sk-container-id-10 div.sk-serial {display: flex;flex-direction: column;align-items: center;background-color: white;padding-right: 0.2em;padding-left: 0.2em;position: relative;}#sk-container-id-10 div.sk-item {position: relative;z-index: 1;}#sk-container-id-10 div.sk-parallel {display: flex;align-items: stretch;justify-content: center;background-color: white;position: relative;}#sk-container-id-10 div.sk-item::before, #sk-container-id-10 div.sk-parallel-item::before {content: \"\";position: absolute;border-left: 1px solid gray;box-sizing: border-box;top: 0;bottom: 0;left: 50%;z-index: -1;}#sk-container-id-10 div.sk-parallel-item {display: flex;flex-direction: column;z-index: 1;position: relative;background-color: white;}#sk-container-id-10 div.sk-parallel-item:first-child::after {align-self: flex-end;width: 50%;}#sk-container-id-10 div.sk-parallel-item:last-child::after {align-self: flex-start;width: 50%;}#sk-container-id-10 div.sk-parallel-item:only-child::after {width: 0;}#sk-container-id-10 div.sk-dashed-wrapped {border: 1px dashed gray;margin: 0 0.4em 0.5em 0.4em;box-sizing: border-box;padding-bottom: 0.4em;background-color: white;}#sk-container-id-10 div.sk-label label {font-family: monospace;font-weight: bold;display: inline-block;line-height: 1.2em;}#sk-container-id-10 div.sk-label-container {text-align: center;}#sk-container-id-10 div.sk-container {/* jupyter's `normalize.less` sets `[hidden] { display: none; }` but bootstrap.min.css set `[hidden] { display: none !important; }` so we also need the `!important` here to be able to override the default hidden behavior on the sphinx rendered scikit-learn.org. See: https://github.com/scikit-learn/scikit-learn/issues/21755 */display: inline-block !important;position: relative;}#sk-container-id-10 div.sk-text-repr-fallback {display: none;}</style><div id=\"sk-container-id-10\" class=\"sk-top-container\"><div class=\"sk-text-repr-fallback\"><pre>GridSearchCV(estimator=DecisionTreeClassifier(), n_jobs=-1,\n",
       "             param_grid={&#x27;max_depth&#x27;: [2, 5, 10, 15],\n",
       "                         &#x27;min_samples_leaf&#x27;: [2, 10, 25, 50],\n",
       "                         &#x27;min_samples_split&#x27;: [2, 10, 25, 50]})</pre><b>In a Jupyter environment, please rerun this cell to show the HTML representation or trust the notebook. <br />On GitHub, the HTML representation is unable to render, please try loading this page with nbviewer.org.</b></div><div class=\"sk-container\" hidden><div class=\"sk-item sk-dashed-wrapped\"><div class=\"sk-label-container\"><div class=\"sk-label sk-toggleable\"><input class=\"sk-toggleable__control sk-hidden--visually\" id=\"sk-estimator-id-22\" type=\"checkbox\" ><label for=\"sk-estimator-id-22\" class=\"sk-toggleable__label sk-toggleable__label-arrow\">GridSearchCV</label><div class=\"sk-toggleable__content\"><pre>GridSearchCV(estimator=DecisionTreeClassifier(), n_jobs=-1,\n",
       "             param_grid={&#x27;max_depth&#x27;: [2, 5, 10, 15],\n",
       "                         &#x27;min_samples_leaf&#x27;: [2, 10, 25, 50],\n",
       "                         &#x27;min_samples_split&#x27;: [2, 10, 25, 50]})</pre></div></div></div><div class=\"sk-parallel\"><div class=\"sk-parallel-item\"><div class=\"sk-item\"><div class=\"sk-label-container\"><div class=\"sk-label sk-toggleable\"><input class=\"sk-toggleable__control sk-hidden--visually\" id=\"sk-estimator-id-23\" type=\"checkbox\" ><label for=\"sk-estimator-id-23\" class=\"sk-toggleable__label sk-toggleable__label-arrow\">estimator: DecisionTreeClassifier</label><div class=\"sk-toggleable__content\"><pre>DecisionTreeClassifier()</pre></div></div></div><div class=\"sk-serial\"><div class=\"sk-item\"><div class=\"sk-estimator sk-toggleable\"><input class=\"sk-toggleable__control sk-hidden--visually\" id=\"sk-estimator-id-24\" type=\"checkbox\" ><label for=\"sk-estimator-id-24\" class=\"sk-toggleable__label sk-toggleable__label-arrow\">DecisionTreeClassifier</label><div class=\"sk-toggleable__content\"><pre>DecisionTreeClassifier()</pre></div></div></div></div></div></div></div></div></div></div>"
      ],
      "text/plain": [
       "GridSearchCV(estimator=DecisionTreeClassifier(), n_jobs=-1,\n",
       "             param_grid={'max_depth': [2, 5, 10, 15],\n",
       "                         'min_samples_leaf': [2, 10, 25, 50],\n",
       "                         'min_samples_split': [2, 10, 25, 50]})"
      ]
     },
     "execution_count": 222,
     "metadata": {},
     "output_type": "execute_result"
    }
   ],
   "source": [
    "# use each combination of parameters for the training data\n",
    "grid_search1.fit(X_train, y_train)"
   ]
  },
  {
   "cell_type": "code",
   "execution_count": 223,
   "metadata": {
    "colab": {
     "base_uri": "https://localhost:8080/"
    },
    "id": "fEPJwCvUPLog",
    "outputId": "2a551977-4571-4ab6-d60f-8661b836294f"
   },
   "outputs": [
    {
     "data": {
      "text/plain": [
       "{'max_depth': 5, 'min_samples_leaf': 25, 'min_samples_split': 2}"
      ]
     },
     "execution_count": 223,
     "metadata": {},
     "output_type": "execute_result"
    }
   ],
   "source": [
    "# extract the best parameters\n",
    "grid_search1.best_params_"
   ]
  },
  {
   "cell_type": "code",
   "execution_count": 224,
   "metadata": {
    "colab": {
     "base_uri": "https://localhost:8080/",
     "height": 118
    },
    "id": "DRXDbTv7PORE",
    "outputId": "1938a0a5-f98a-4c45-bc8d-33394786eba6"
   },
   "outputs": [
    {
     "data": {
      "text/html": [
       "<style>#sk-container-id-11 {color: black;background-color: white;}#sk-container-id-11 pre{padding: 0;}#sk-container-id-11 div.sk-toggleable {background-color: white;}#sk-container-id-11 label.sk-toggleable__label {cursor: pointer;display: block;width: 100%;margin-bottom: 0;padding: 0.3em;box-sizing: border-box;text-align: center;}#sk-container-id-11 label.sk-toggleable__label-arrow:before {content: \"▸\";float: left;margin-right: 0.25em;color: #696969;}#sk-container-id-11 label.sk-toggleable__label-arrow:hover:before {color: black;}#sk-container-id-11 div.sk-estimator:hover label.sk-toggleable__label-arrow:before {color: black;}#sk-container-id-11 div.sk-toggleable__content {max-height: 0;max-width: 0;overflow: hidden;text-align: left;background-color: #f0f8ff;}#sk-container-id-11 div.sk-toggleable__content pre {margin: 0.2em;color: black;border-radius: 0.25em;background-color: #f0f8ff;}#sk-container-id-11 input.sk-toggleable__control:checked~div.sk-toggleable__content {max-height: 200px;max-width: 100%;overflow: auto;}#sk-container-id-11 input.sk-toggleable__control:checked~label.sk-toggleable__label-arrow:before {content: \"▾\";}#sk-container-id-11 div.sk-estimator input.sk-toggleable__control:checked~label.sk-toggleable__label {background-color: #d4ebff;}#sk-container-id-11 div.sk-label input.sk-toggleable__control:checked~label.sk-toggleable__label {background-color: #d4ebff;}#sk-container-id-11 input.sk-hidden--visually {border: 0;clip: rect(1px 1px 1px 1px);clip: rect(1px, 1px, 1px, 1px);height: 1px;margin: -1px;overflow: hidden;padding: 0;position: absolute;width: 1px;}#sk-container-id-11 div.sk-estimator {font-family: monospace;background-color: #f0f8ff;border: 1px dotted black;border-radius: 0.25em;box-sizing: border-box;margin-bottom: 0.5em;}#sk-container-id-11 div.sk-estimator:hover {background-color: #d4ebff;}#sk-container-id-11 div.sk-parallel-item::after {content: \"\";width: 100%;border-bottom: 1px solid gray;flex-grow: 1;}#sk-container-id-11 div.sk-label:hover label.sk-toggleable__label {background-color: #d4ebff;}#sk-container-id-11 div.sk-serial::before {content: \"\";position: absolute;border-left: 1px solid gray;box-sizing: border-box;top: 0;bottom: 0;left: 50%;z-index: 0;}#sk-container-id-11 div.sk-serial {display: flex;flex-direction: column;align-items: center;background-color: white;padding-right: 0.2em;padding-left: 0.2em;position: relative;}#sk-container-id-11 div.sk-item {position: relative;z-index: 1;}#sk-container-id-11 div.sk-parallel {display: flex;align-items: stretch;justify-content: center;background-color: white;position: relative;}#sk-container-id-11 div.sk-item::before, #sk-container-id-11 div.sk-parallel-item::before {content: \"\";position: absolute;border-left: 1px solid gray;box-sizing: border-box;top: 0;bottom: 0;left: 50%;z-index: -1;}#sk-container-id-11 div.sk-parallel-item {display: flex;flex-direction: column;z-index: 1;position: relative;background-color: white;}#sk-container-id-11 div.sk-parallel-item:first-child::after {align-self: flex-end;width: 50%;}#sk-container-id-11 div.sk-parallel-item:last-child::after {align-self: flex-start;width: 50%;}#sk-container-id-11 div.sk-parallel-item:only-child::after {width: 0;}#sk-container-id-11 div.sk-dashed-wrapped {border: 1px dashed gray;margin: 0 0.4em 0.5em 0.4em;box-sizing: border-box;padding-bottom: 0.4em;background-color: white;}#sk-container-id-11 div.sk-label label {font-family: monospace;font-weight: bold;display: inline-block;line-height: 1.2em;}#sk-container-id-11 div.sk-label-container {text-align: center;}#sk-container-id-11 div.sk-container {/* jupyter's `normalize.less` sets `[hidden] { display: none; }` but bootstrap.min.css set `[hidden] { display: none !important; }` so we also need the `!important` here to be able to override the default hidden behavior on the sphinx rendered scikit-learn.org. See: https://github.com/scikit-learn/scikit-learn/issues/21755 */display: inline-block !important;position: relative;}#sk-container-id-11 div.sk-text-repr-fallback {display: none;}</style><div id=\"sk-container-id-11\" class=\"sk-top-container\"><div class=\"sk-text-repr-fallback\"><pre>GridSearchCV(estimator=DecisionTreeClassifier(), n_jobs=-1,\n",
       "             param_grid={&#x27;max_depth&#x27;: [7, 8, 9, 10, 11, 12],\n",
       "                         &#x27;min_samples_leaf&#x27;: [50, 60, 75, 90, 125, 150],\n",
       "                         &#x27;min_samples_split&#x27;: [5, 7, 10, 12, 15, 17]})</pre><b>In a Jupyter environment, please rerun this cell to show the HTML representation or trust the notebook. <br />On GitHub, the HTML representation is unable to render, please try loading this page with nbviewer.org.</b></div><div class=\"sk-container\" hidden><div class=\"sk-item sk-dashed-wrapped\"><div class=\"sk-label-container\"><div class=\"sk-label sk-toggleable\"><input class=\"sk-toggleable__control sk-hidden--visually\" id=\"sk-estimator-id-25\" type=\"checkbox\" ><label for=\"sk-estimator-id-25\" class=\"sk-toggleable__label sk-toggleable__label-arrow\">GridSearchCV</label><div class=\"sk-toggleable__content\"><pre>GridSearchCV(estimator=DecisionTreeClassifier(), n_jobs=-1,\n",
       "             param_grid={&#x27;max_depth&#x27;: [7, 8, 9, 10, 11, 12],\n",
       "                         &#x27;min_samples_leaf&#x27;: [50, 60, 75, 90, 125, 150],\n",
       "                         &#x27;min_samples_split&#x27;: [5, 7, 10, 12, 15, 17]})</pre></div></div></div><div class=\"sk-parallel\"><div class=\"sk-parallel-item\"><div class=\"sk-item\"><div class=\"sk-label-container\"><div class=\"sk-label sk-toggleable\"><input class=\"sk-toggleable__control sk-hidden--visually\" id=\"sk-estimator-id-26\" type=\"checkbox\" ><label for=\"sk-estimator-id-26\" class=\"sk-toggleable__label sk-toggleable__label-arrow\">estimator: DecisionTreeClassifier</label><div class=\"sk-toggleable__content\"><pre>DecisionTreeClassifier()</pre></div></div></div><div class=\"sk-serial\"><div class=\"sk-item\"><div class=\"sk-estimator sk-toggleable\"><input class=\"sk-toggleable__control sk-hidden--visually\" id=\"sk-estimator-id-27\" type=\"checkbox\" ><label for=\"sk-estimator-id-27\" class=\"sk-toggleable__label sk-toggleable__label-arrow\">DecisionTreeClassifier</label><div class=\"sk-toggleable__content\"><pre>DecisionTreeClassifier()</pre></div></div></div></div></div></div></div></div></div></div>"
      ],
      "text/plain": [
       "GridSearchCV(estimator=DecisionTreeClassifier(), n_jobs=-1,\n",
       "             param_grid={'max_depth': [7, 8, 9, 10, 11, 12],\n",
       "                         'min_samples_leaf': [50, 60, 75, 90, 125, 150],\n",
       "                         'min_samples_split': [5, 7, 10, 12, 15, 17]})"
      ]
     },
     "execution_count": 224,
     "metadata": {},
     "output_type": "execute_result"
    }
   ],
   "source": [
    "# parameter grid 2\n",
    "dt_clf = DecisionTreeClassifier()\n",
    "\n",
    "hyperparam_grid2 = {'min_samples_leaf': [50,60,75,90,125,150],\n",
    "                  'max_depth': [7,8,9,10,11,12],\n",
    "                  'min_samples_split': [5,7,10,12,15,17]}\n",
    "\n",
    "grid_search2 = GridSearchCV(dt_clf, hyperparam_grid2, n_jobs=-1)\n",
    "\n",
    "grid_search2.fit(X_train, y_train)"
   ]
  },
  {
   "cell_type": "code",
   "execution_count": 225,
   "metadata": {
    "colab": {
     "base_uri": "https://localhost:8080/"
    },
    "id": "Lq2HJHmwPQHq",
    "outputId": "5f8e1efb-d3c6-49e5-c38f-ff47392ad369"
   },
   "outputs": [
    {
     "data": {
      "text/plain": [
       "{'max_depth': 7, 'min_samples_leaf': 150, 'min_samples_split': 5}"
      ]
     },
     "execution_count": 225,
     "metadata": {},
     "output_type": "execute_result"
    }
   ],
   "source": [
    "grid_search2.best_params_"
   ]
  },
  {
   "cell_type": "code",
   "execution_count": 226,
   "metadata": {
    "colab": {
     "base_uri": "https://localhost:8080/",
     "height": 118
    },
    "id": "aomvIX4pR_2Y",
    "outputId": "c7fde179-ca54-4adf-f8e3-38ceaa76c56c"
   },
   "outputs": [
    {
     "data": {
      "text/html": [
       "<style>#sk-container-id-12 {color: black;background-color: white;}#sk-container-id-12 pre{padding: 0;}#sk-container-id-12 div.sk-toggleable {background-color: white;}#sk-container-id-12 label.sk-toggleable__label {cursor: pointer;display: block;width: 100%;margin-bottom: 0;padding: 0.3em;box-sizing: border-box;text-align: center;}#sk-container-id-12 label.sk-toggleable__label-arrow:before {content: \"▸\";float: left;margin-right: 0.25em;color: #696969;}#sk-container-id-12 label.sk-toggleable__label-arrow:hover:before {color: black;}#sk-container-id-12 div.sk-estimator:hover label.sk-toggleable__label-arrow:before {color: black;}#sk-container-id-12 div.sk-toggleable__content {max-height: 0;max-width: 0;overflow: hidden;text-align: left;background-color: #f0f8ff;}#sk-container-id-12 div.sk-toggleable__content pre {margin: 0.2em;color: black;border-radius: 0.25em;background-color: #f0f8ff;}#sk-container-id-12 input.sk-toggleable__control:checked~div.sk-toggleable__content {max-height: 200px;max-width: 100%;overflow: auto;}#sk-container-id-12 input.sk-toggleable__control:checked~label.sk-toggleable__label-arrow:before {content: \"▾\";}#sk-container-id-12 div.sk-estimator input.sk-toggleable__control:checked~label.sk-toggleable__label {background-color: #d4ebff;}#sk-container-id-12 div.sk-label input.sk-toggleable__control:checked~label.sk-toggleable__label {background-color: #d4ebff;}#sk-container-id-12 input.sk-hidden--visually {border: 0;clip: rect(1px 1px 1px 1px);clip: rect(1px, 1px, 1px, 1px);height: 1px;margin: -1px;overflow: hidden;padding: 0;position: absolute;width: 1px;}#sk-container-id-12 div.sk-estimator {font-family: monospace;background-color: #f0f8ff;border: 1px dotted black;border-radius: 0.25em;box-sizing: border-box;margin-bottom: 0.5em;}#sk-container-id-12 div.sk-estimator:hover {background-color: #d4ebff;}#sk-container-id-12 div.sk-parallel-item::after {content: \"\";width: 100%;border-bottom: 1px solid gray;flex-grow: 1;}#sk-container-id-12 div.sk-label:hover label.sk-toggleable__label {background-color: #d4ebff;}#sk-container-id-12 div.sk-serial::before {content: \"\";position: absolute;border-left: 1px solid gray;box-sizing: border-box;top: 0;bottom: 0;left: 50%;z-index: 0;}#sk-container-id-12 div.sk-serial {display: flex;flex-direction: column;align-items: center;background-color: white;padding-right: 0.2em;padding-left: 0.2em;position: relative;}#sk-container-id-12 div.sk-item {position: relative;z-index: 1;}#sk-container-id-12 div.sk-parallel {display: flex;align-items: stretch;justify-content: center;background-color: white;position: relative;}#sk-container-id-12 div.sk-item::before, #sk-container-id-12 div.sk-parallel-item::before {content: \"\";position: absolute;border-left: 1px solid gray;box-sizing: border-box;top: 0;bottom: 0;left: 50%;z-index: -1;}#sk-container-id-12 div.sk-parallel-item {display: flex;flex-direction: column;z-index: 1;position: relative;background-color: white;}#sk-container-id-12 div.sk-parallel-item:first-child::after {align-self: flex-end;width: 50%;}#sk-container-id-12 div.sk-parallel-item:last-child::after {align-self: flex-start;width: 50%;}#sk-container-id-12 div.sk-parallel-item:only-child::after {width: 0;}#sk-container-id-12 div.sk-dashed-wrapped {border: 1px dashed gray;margin: 0 0.4em 0.5em 0.4em;box-sizing: border-box;padding-bottom: 0.4em;background-color: white;}#sk-container-id-12 div.sk-label label {font-family: monospace;font-weight: bold;display: inline-block;line-height: 1.2em;}#sk-container-id-12 div.sk-label-container {text-align: center;}#sk-container-id-12 div.sk-container {/* jupyter's `normalize.less` sets `[hidden] { display: none; }` but bootstrap.min.css set `[hidden] { display: none !important; }` so we also need the `!important` here to be able to override the default hidden behavior on the sphinx rendered scikit-learn.org. See: https://github.com/scikit-learn/scikit-learn/issues/21755 */display: inline-block !important;position: relative;}#sk-container-id-12 div.sk-text-repr-fallback {display: none;}</style><div id=\"sk-container-id-12\" class=\"sk-top-container\"><div class=\"sk-text-repr-fallback\"><pre>GridSearchCV(estimator=DecisionTreeClassifier(), n_jobs=-1,\n",
       "             param_grid={&#x27;max_depth&#x27;: [8],\n",
       "                         &#x27;min_samples_leaf&#x27;: [70, 73, 75, 77, 80],\n",
       "                         &#x27;min_samples_split&#x27;: [6, 7, 8, 9]})</pre><b>In a Jupyter environment, please rerun this cell to show the HTML representation or trust the notebook. <br />On GitHub, the HTML representation is unable to render, please try loading this page with nbviewer.org.</b></div><div class=\"sk-container\" hidden><div class=\"sk-item sk-dashed-wrapped\"><div class=\"sk-label-container\"><div class=\"sk-label sk-toggleable\"><input class=\"sk-toggleable__control sk-hidden--visually\" id=\"sk-estimator-id-28\" type=\"checkbox\" ><label for=\"sk-estimator-id-28\" class=\"sk-toggleable__label sk-toggleable__label-arrow\">GridSearchCV</label><div class=\"sk-toggleable__content\"><pre>GridSearchCV(estimator=DecisionTreeClassifier(), n_jobs=-1,\n",
       "             param_grid={&#x27;max_depth&#x27;: [8],\n",
       "                         &#x27;min_samples_leaf&#x27;: [70, 73, 75, 77, 80],\n",
       "                         &#x27;min_samples_split&#x27;: [6, 7, 8, 9]})</pre></div></div></div><div class=\"sk-parallel\"><div class=\"sk-parallel-item\"><div class=\"sk-item\"><div class=\"sk-label-container\"><div class=\"sk-label sk-toggleable\"><input class=\"sk-toggleable__control sk-hidden--visually\" id=\"sk-estimator-id-29\" type=\"checkbox\" ><label for=\"sk-estimator-id-29\" class=\"sk-toggleable__label sk-toggleable__label-arrow\">estimator: DecisionTreeClassifier</label><div class=\"sk-toggleable__content\"><pre>DecisionTreeClassifier()</pre></div></div></div><div class=\"sk-serial\"><div class=\"sk-item\"><div class=\"sk-estimator sk-toggleable\"><input class=\"sk-toggleable__control sk-hidden--visually\" id=\"sk-estimator-id-30\" type=\"checkbox\" ><label for=\"sk-estimator-id-30\" class=\"sk-toggleable__label sk-toggleable__label-arrow\">DecisionTreeClassifier</label><div class=\"sk-toggleable__content\"><pre>DecisionTreeClassifier()</pre></div></div></div></div></div></div></div></div></div></div>"
      ],
      "text/plain": [
       "GridSearchCV(estimator=DecisionTreeClassifier(), n_jobs=-1,\n",
       "             param_grid={'max_depth': [8],\n",
       "                         'min_samples_leaf': [70, 73, 75, 77, 80],\n",
       "                         'min_samples_split': [6, 7, 8, 9]})"
      ]
     },
     "execution_count": 226,
     "metadata": {},
     "output_type": "execute_result"
    }
   ],
   "source": [
    "# parameter grid 3\n",
    "dtclf = DecisionTreeClassifier()\n",
    "\n",
    "hyperparam_grid3 = {'min_samples_leaf': [70,73,75,77,80],\n",
    "                  'max_depth': [8],\n",
    "                  'min_samples_split': [6,7,8,9]}\n",
    "\n",
    "grid_search3 = GridSearchCV(dtclf, hyperparam_grid3, n_jobs=-1)\n",
    "\n",
    "grid_search3.fit(X_train, y_train)"
   ]
  },
  {
   "cell_type": "code",
   "execution_count": 227,
   "metadata": {
    "colab": {
     "base_uri": "https://localhost:8080/"
    },
    "id": "_-bkTvywSTvN",
    "outputId": "79b039ae-a075-4251-de28-6945f4964b9a"
   },
   "outputs": [
    {
     "data": {
      "text/plain": [
       "{'max_depth': 8, 'min_samples_leaf': 80, 'min_samples_split': 6}"
      ]
     },
     "execution_count": 227,
     "metadata": {},
     "output_type": "execute_result"
    }
   ],
   "source": [
    "grid_search3.best_params_"
   ]
  },
  {
   "cell_type": "code",
   "execution_count": 228,
   "metadata": {},
   "outputs": [
    {
     "data": {
      "text/html": [
       "<style>#sk-container-id-13 {color: black;background-color: white;}#sk-container-id-13 pre{padding: 0;}#sk-container-id-13 div.sk-toggleable {background-color: white;}#sk-container-id-13 label.sk-toggleable__label {cursor: pointer;display: block;width: 100%;margin-bottom: 0;padding: 0.3em;box-sizing: border-box;text-align: center;}#sk-container-id-13 label.sk-toggleable__label-arrow:before {content: \"▸\";float: left;margin-right: 0.25em;color: #696969;}#sk-container-id-13 label.sk-toggleable__label-arrow:hover:before {color: black;}#sk-container-id-13 div.sk-estimator:hover label.sk-toggleable__label-arrow:before {color: black;}#sk-container-id-13 div.sk-toggleable__content {max-height: 0;max-width: 0;overflow: hidden;text-align: left;background-color: #f0f8ff;}#sk-container-id-13 div.sk-toggleable__content pre {margin: 0.2em;color: black;border-radius: 0.25em;background-color: #f0f8ff;}#sk-container-id-13 input.sk-toggleable__control:checked~div.sk-toggleable__content {max-height: 200px;max-width: 100%;overflow: auto;}#sk-container-id-13 input.sk-toggleable__control:checked~label.sk-toggleable__label-arrow:before {content: \"▾\";}#sk-container-id-13 div.sk-estimator input.sk-toggleable__control:checked~label.sk-toggleable__label {background-color: #d4ebff;}#sk-container-id-13 div.sk-label input.sk-toggleable__control:checked~label.sk-toggleable__label {background-color: #d4ebff;}#sk-container-id-13 input.sk-hidden--visually {border: 0;clip: rect(1px 1px 1px 1px);clip: rect(1px, 1px, 1px, 1px);height: 1px;margin: -1px;overflow: hidden;padding: 0;position: absolute;width: 1px;}#sk-container-id-13 div.sk-estimator {font-family: monospace;background-color: #f0f8ff;border: 1px dotted black;border-radius: 0.25em;box-sizing: border-box;margin-bottom: 0.5em;}#sk-container-id-13 div.sk-estimator:hover {background-color: #d4ebff;}#sk-container-id-13 div.sk-parallel-item::after {content: \"\";width: 100%;border-bottom: 1px solid gray;flex-grow: 1;}#sk-container-id-13 div.sk-label:hover label.sk-toggleable__label {background-color: #d4ebff;}#sk-container-id-13 div.sk-serial::before {content: \"\";position: absolute;border-left: 1px solid gray;box-sizing: border-box;top: 0;bottom: 0;left: 50%;z-index: 0;}#sk-container-id-13 div.sk-serial {display: flex;flex-direction: column;align-items: center;background-color: white;padding-right: 0.2em;padding-left: 0.2em;position: relative;}#sk-container-id-13 div.sk-item {position: relative;z-index: 1;}#sk-container-id-13 div.sk-parallel {display: flex;align-items: stretch;justify-content: center;background-color: white;position: relative;}#sk-container-id-13 div.sk-item::before, #sk-container-id-13 div.sk-parallel-item::before {content: \"\";position: absolute;border-left: 1px solid gray;box-sizing: border-box;top: 0;bottom: 0;left: 50%;z-index: -1;}#sk-container-id-13 div.sk-parallel-item {display: flex;flex-direction: column;z-index: 1;position: relative;background-color: white;}#sk-container-id-13 div.sk-parallel-item:first-child::after {align-self: flex-end;width: 50%;}#sk-container-id-13 div.sk-parallel-item:last-child::after {align-self: flex-start;width: 50%;}#sk-container-id-13 div.sk-parallel-item:only-child::after {width: 0;}#sk-container-id-13 div.sk-dashed-wrapped {border: 1px dashed gray;margin: 0 0.4em 0.5em 0.4em;box-sizing: border-box;padding-bottom: 0.4em;background-color: white;}#sk-container-id-13 div.sk-label label {font-family: monospace;font-weight: bold;display: inline-block;line-height: 1.2em;}#sk-container-id-13 div.sk-label-container {text-align: center;}#sk-container-id-13 div.sk-container {/* jupyter's `normalize.less` sets `[hidden] { display: none; }` but bootstrap.min.css set `[hidden] { display: none !important; }` so we also need the `!important` here to be able to override the default hidden behavior on the sphinx rendered scikit-learn.org. See: https://github.com/scikit-learn/scikit-learn/issues/21755 */display: inline-block !important;position: relative;}#sk-container-id-13 div.sk-text-repr-fallback {display: none;}</style><div id=\"sk-container-id-13\" class=\"sk-top-container\"><div class=\"sk-text-repr-fallback\"><pre>GridSearchCV(estimator=DecisionTreeClassifier(), n_jobs=-1,\n",
       "             param_grid={&#x27;max_depth&#x27;: [8],\n",
       "                         &#x27;min_samples_leaf&#x27;: [65, 66, 67, 68, 69, 70, 72],\n",
       "                         &#x27;min_samples_split&#x27;: [7]})</pre><b>In a Jupyter environment, please rerun this cell to show the HTML representation or trust the notebook. <br />On GitHub, the HTML representation is unable to render, please try loading this page with nbviewer.org.</b></div><div class=\"sk-container\" hidden><div class=\"sk-item sk-dashed-wrapped\"><div class=\"sk-label-container\"><div class=\"sk-label sk-toggleable\"><input class=\"sk-toggleable__control sk-hidden--visually\" id=\"sk-estimator-id-31\" type=\"checkbox\" ><label for=\"sk-estimator-id-31\" class=\"sk-toggleable__label sk-toggleable__label-arrow\">GridSearchCV</label><div class=\"sk-toggleable__content\"><pre>GridSearchCV(estimator=DecisionTreeClassifier(), n_jobs=-1,\n",
       "             param_grid={&#x27;max_depth&#x27;: [8],\n",
       "                         &#x27;min_samples_leaf&#x27;: [65, 66, 67, 68, 69, 70, 72],\n",
       "                         &#x27;min_samples_split&#x27;: [7]})</pre></div></div></div><div class=\"sk-parallel\"><div class=\"sk-parallel-item\"><div class=\"sk-item\"><div class=\"sk-label-container\"><div class=\"sk-label sk-toggleable\"><input class=\"sk-toggleable__control sk-hidden--visually\" id=\"sk-estimator-id-32\" type=\"checkbox\" ><label for=\"sk-estimator-id-32\" class=\"sk-toggleable__label sk-toggleable__label-arrow\">estimator: DecisionTreeClassifier</label><div class=\"sk-toggleable__content\"><pre>DecisionTreeClassifier()</pre></div></div></div><div class=\"sk-serial\"><div class=\"sk-item\"><div class=\"sk-estimator sk-toggleable\"><input class=\"sk-toggleable__control sk-hidden--visually\" id=\"sk-estimator-id-33\" type=\"checkbox\" ><label for=\"sk-estimator-id-33\" class=\"sk-toggleable__label sk-toggleable__label-arrow\">DecisionTreeClassifier</label><div class=\"sk-toggleable__content\"><pre>DecisionTreeClassifier()</pre></div></div></div></div></div></div></div></div></div></div>"
      ],
      "text/plain": [
       "GridSearchCV(estimator=DecisionTreeClassifier(), n_jobs=-1,\n",
       "             param_grid={'max_depth': [8],\n",
       "                         'min_samples_leaf': [65, 66, 67, 68, 69, 70, 72],\n",
       "                         'min_samples_split': [7]})"
      ]
     },
     "execution_count": 228,
     "metadata": {},
     "output_type": "execute_result"
    }
   ],
   "source": [
    "# parameter grid 4\n",
    "dtclf = DecisionTreeClassifier()\n",
    "\n",
    "hyperparam_grid4 = {'min_samples_leaf': [65,66,67,68,69,70,72],\n",
    "                  'max_depth': [8],\n",
    "                  'min_samples_split': [7]}\n",
    "\n",
    "grid_search4 = GridSearchCV(dtclf, hyperparam_grid4, n_jobs=-1)\n",
    "\n",
    "grid_search4.fit(X_train, y_train)"
   ]
  },
  {
   "cell_type": "code",
   "execution_count": 229,
   "metadata": {},
   "outputs": [
    {
     "data": {
      "text/plain": [
       "{'max_depth': 8, 'min_samples_leaf': 72, 'min_samples_split': 7}"
      ]
     },
     "execution_count": 229,
     "metadata": {},
     "output_type": "execute_result"
    }
   ],
   "source": [
    "grid_search4.best_params_"
   ]
  },
  {
   "cell_type": "code",
   "execution_count": 230,
   "metadata": {
    "id": "yLOJTGKlTfGO"
   },
   "outputs": [],
   "source": [
    "# instantiate DTC with our best parameters found from the grid searches\n",
    "dt_clf = DecisionTreeClassifier(max_depth=8, min_samples_split=7, min_samples_leaf=67)\n",
    "# fit the DTC\n",
    "dt_clf.fit(X_train, y_train)\n",
    "# extract predictions\n",
    "preds = dt_clf.predict(X_test)"
   ]
  },
  {
   "cell_type": "code",
   "execution_count": 231,
   "metadata": {
    "colab": {
     "base_uri": "https://localhost:8080/"
    },
    "id": "HAvlsv2qTXMU",
    "outputId": "808174d7-7904-4a76-b42b-6dd6927351cd"
   },
   "outputs": [
    {
     "name": "stdout",
     "output_type": "stream",
     "text": [
      "acurracy: 0.7235726399095535\n"
     ]
    }
   ],
   "source": [
    "# print calculated accuracy of this DTC\n",
    "print('acurracy:', dt_clf.score(X_test, y_test))"
   ]
  },
  {
   "cell_type": "code",
   "execution_count": 232,
   "metadata": {
    "colab": {
     "base_uri": "https://localhost:8080/",
     "height": 472
    },
    "id": "E2OkH8COAle2",
    "outputId": "872d5c19-2653-4dfa-d000-dedbb54d2ba2"
   },
   "outputs": [
    {
     "data": {
      "text/plain": [
       "<sklearn.metrics._plot.confusion_matrix.ConfusionMatrixDisplay at 0x15744df10>"
      ]
     },
     "execution_count": 232,
     "metadata": {},
     "output_type": "execute_result"
    },
    {
     "data": {
      "image/png": "[encoded data removed]",
      "text/plain": [
       "<Figure size 640x480 with 2 Axes>"
      ]
     },
     "metadata": {},
     "output_type": "display_data"
    }
   ],
   "source": [
    "# display confusion matrix\n",
    "# 2 = ontime\n",
    "# 1 = early\n",
    "# 0 = delayed\n",
    "ConfusionMatrixDisplay.from_estimator(dt_clf, X_test, y_test, normalize='true')"
   ]
  },
  {
   "cell_type": "code",
   "execution_count": 233,
   "metadata": {
    "id": "a3TC9YL4X8gp"
   },
   "outputs": [],
   "source": [
    "# import packages related to visualizing the DTC\n",
    "from sklearn import tree\n",
    "from sklearn.tree import plot_tree"
   ]
  },
  {
   "cell_type": "code",
   "execution_count": 234,
   "metadata": {
    "colab": {
     "base_uri": "https://localhost:8080/",
     "height": 1000
    },
    "id": "j9-T6frsX-qa",
    "outputId": "9f382505-6733-40af-a964-6d6edf80d1d8"
   },
   "outputs": [
    {
     "data": {
      "text/plain": [
       "[Text(0.6751785714285714, 0.9444444444444444, 'x[5] <= 9.5\\ngini = 0.618\\nsamples = 20637\\nvalue = [5505, 10542, 4590]'),\n",
       " Text(0.4689285714285714, 0.8333333333333334, 'x[6] <= 20.5\\ngini = 0.516\\nsamples = 16209\\nvalue = [1781, 10374, 4054]'),\n",
       " Text(0.27035714285714285, 0.7222222222222222, 'x[5] <= -0.5\\ngini = 0.435\\nsamples = 12783\\nvalue = [770, 9141, 2872]'),\n",
       " Text(0.15071428571428572, 0.6111111111111112, 'x[5] <= -4.5\\ngini = 0.35\\nsamples = 9857\\nvalue = [386, 7747, 1724]'),\n",
       " Text(0.07714285714285714, 0.5, 'x[6] <= 15.5\\ngini = 0.271\\nsamples = 5012\\nvalue = [152, 4229, 631]'),\n",
       " Text(0.045714285714285714, 0.3888888888888889, 'x[5] <= -6.5\\ngini = 0.225\\nsamples = 3575\\nvalue = [89, 3125, 361]'),\n",
       " Text(0.022857142857142857, 0.2777777777777778, 'x[9] <= 679.5\\ngini = 0.188\\nsamples = 1933\\nvalue = [49, 1735, 149]'),\n",
       " Text(0.011428571428571429, 0.16666666666666666, 'x[5] <= -7.5\\ngini = 0.141\\nsamples = 1094\\nvalue = [17, 1012, 65]'),\n",
       " Text(0.005714285714285714, 0.05555555555555555, 'gini = 0.116\\nsamples = 803\\nvalue = [13, 754, 36]'),\n",
       " Text(0.017142857142857144, 0.05555555555555555, 'gini = 0.204\\nsamples = 291\\nvalue = [4, 258, 29]'),\n",
       " Text(0.03428571428571429, 0.16666666666666666, 'x[0] <= 12.5\\ngini = 0.246\\nsamples = 839\\nvalue = [32, 723, 84]'),\n",
       " Text(0.02857142857142857, 0.05555555555555555, 'gini = 0.284\\nsamples = 625\\nvalue = [28, 523, 74]'),\n",
       " Text(0.04, 0.05555555555555555, 'gini = 0.124\\nsamples = 214\\nvalue = [4, 200, 10]'),\n",
       " Text(0.06857142857142857, 0.2777777777777778, 'x[6] <= 11.5\\ngini = 0.266\\nsamples = 1642\\nvalue = [40, 1390, 212]'),\n",
       " Text(0.05714285714285714, 0.16666666666666666, 'x[0] <= 5.5\\ngini = 0.213\\nsamples = 756\\nvalue = [10, 666, 80]'),\n",
       " Text(0.05142857142857143, 0.05555555555555555, 'gini = 0.125\\nsamples = 271\\nvalue = [3, 253, 15]'),\n",
       " Text(0.06285714285714286, 0.05555555555555555, 'gini = 0.257\\nsamples = 485\\nvalue = [7, 413, 65]'),\n",
       " Text(0.08, 0.16666666666666666, 'x[2] <= 220.5\\ngini = 0.309\\nsamples = 886\\nvalue = [30, 724, 132]'),\n",
       " Text(0.07428571428571429, 0.05555555555555555, 'gini = 0.27\\nsamples = 574\\nvalue = [18, 485, 71]'),\n",
       " Text(0.08571428571428572, 0.05555555555555555, 'gini = 0.374\\nsamples = 312\\nvalue = [12, 239, 61]'),\n",
       " Text(0.10857142857142857, 0.3888888888888889, 'x[8] <= 908.5\\ngini = 0.373\\nsamples = 1437\\nvalue = [63, 1104, 270]'),\n",
       " Text(0.09714285714285714, 0.2777777777777778, 'x[5] <= -6.5\\ngini = 0.478\\nsamples = 225\\nvalue = [14, 150, 61]'),\n",
       " Text(0.09142857142857143, 0.16666666666666666, 'gini = 0.342\\nsamples = 117\\nvalue = [6, 93, 18]'),\n",
       " Text(0.10285714285714286, 0.16666666666666666, 'gini = 0.557\\nsamples = 108\\nvalue = [8, 57, 43]'),\n",
       " Text(0.12, 0.2777777777777778, 'x[9] <= 173.5\\ngini = 0.349\\nsamples = 1212\\nvalue = [49, 954, 209]'),\n",
       " Text(0.11428571428571428, 0.16666666666666666, 'gini = 0.432\\nsamples = 76\\nvalue = [0, 52, 24]'),\n",
       " Text(0.12571428571428572, 0.16666666666666666, 'x[9] <= 307.0\\ngini = 0.341\\nsamples = 1136\\nvalue = [49, 902, 185]'),\n",
       " Text(0.12, 0.05555555555555555, 'gini = 0.209\\nsamples = 152\\nvalue = [0, 134, 18]'),\n",
       " Text(0.13142857142857142, 0.05555555555555555, 'gini = 0.36\\nsamples = 984\\nvalue = [49, 768, 167]'),\n",
       " Text(0.22428571428571428, 0.5, 'x[6] <= 13.5\\ngini = 0.42\\nsamples = 4845\\nvalue = [234, 3518, 1093]'),\n",
       " Text(0.18285714285714286, 0.3888888888888889, 'x[5] <= -1.5\\ngini = 0.354\\nsamples = 2716\\nvalue = [90, 2122, 504]'),\n",
       " Text(0.16, 0.2777777777777778, 'x[1] <= 278.5\\ngini = 0.325\\nsamples = 2115\\nvalue = [64, 1700, 351]'),\n",
       " Text(0.14857142857142858, 0.16666666666666666, 'x[0] <= 6.5\\ngini = 0.313\\nsamples = 1895\\nvalue = [59, 1542, 294]'),\n",
       " Text(0.14285714285714285, 0.05555555555555555, 'gini = 0.262\\nsamples = 799\\nvalue = [20, 679, 100]'),\n",
       " Text(0.15428571428571428, 0.05555555555555555, 'gini = 0.347\\nsamples = 1096\\nvalue = [39, 863, 194]'),\n",
       " Text(0.17142857142857143, 0.16666666666666666, 'x[2] <= 150.0\\ngini = 0.417\\nsamples = 220\\nvalue = [5, 158, 57]'),\n",
       " Text(0.1657142857142857, 0.05555555555555555, 'gini = 0.327\\nsamples = 89\\nvalue = [1, 71, 17]'),\n",
       " Text(0.17714285714285713, 0.05555555555555555, 'gini = 0.465\\nsamples = 131\\nvalue = [4, 87, 40]'),\n",
       " Text(0.2057142857142857, 0.2777777777777778, 'x[0] <= 6.5\\ngini = 0.44\\nsamples = 601\\nvalue = [26, 422, 153]'),\n",
       " Text(0.19428571428571428, 0.16666666666666666, 'x[7] <= 1204.5\\ngini = 0.34\\nsamples = 187\\nvalue = [10, 149, 28]'),\n",
       " Text(0.18857142857142858, 0.05555555555555555, 'gini = 0.498\\nsamples = 88\\nvalue = [9, 58, 21]'),\n",
       " Text(0.2, 0.05555555555555555, 'gini = 0.15\\nsamples = 99\\nvalue = [1, 91, 7]'),\n",
       " Text(0.21714285714285714, 0.16666666666666666, 'x[9] <= 375.0\\ngini = 0.473\\nsamples = 414\\nvalue = [16, 273, 125]'),\n",
       " Text(0.21142857142857144, 0.05555555555555555, 'gini = 0.55\\nsamples = 109\\nvalue = [7, 58, 44]'),\n",
       " Text(0.22285714285714286, 0.05555555555555555, 'gini = 0.432\\nsamples = 305\\nvalue = [9, 215, 81]'),\n",
       " Text(0.26571428571428574, 0.3888888888888889, 'x[0] <= 14.5\\ngini = 0.489\\nsamples = 2129\\nvalue = [144, 1396, 589]'),\n",
       " Text(0.25142857142857145, 0.2777777777777778, 'x[6] <= 18.5\\ngini = 0.465\\nsamples = 1805\\nvalue = [121, 1237, 447]'),\n",
       " Text(0.24, 0.16666666666666666, 'x[7] <= 801.0\\ngini = 0.442\\nsamples = 1435\\nvalue = [90, 1017, 328]'),\n",
       " Text(0.2342857142857143, 0.05555555555555555, 'gini = 0.525\\nsamples = 260\\nvalue = [21, 159, 80]'),\n",
       " Text(0.24571428571428572, 0.05555555555555555, 'gini = 0.419\\nsamples = 1175\\nvalue = [69, 858, 248]'),\n",
       " Text(0.26285714285714284, 0.16666666666666666, 'x[5] <= -2.5\\ngini = 0.536\\nsamples = 370\\nvalue = [31, 220, 119]'),\n",
       " Text(0.2571428571428571, 0.05555555555555555, 'gini = 0.502\\nsamples = 202\\nvalue = [20, 132, 50]'),\n",
       " Text(0.26857142857142857, 0.05555555555555555, 'gini = 0.553\\nsamples = 168\\nvalue = [11, 88, 69]'),\n",
       " Text(0.28, 0.2777777777777778, 'x[9] <= 480.5\\ngini = 0.562\\nsamples = 324\\nvalue = [23, 159, 142]'),\n",
       " Text(0.2742857142857143, 0.16666666666666666, 'gini = 0.514\\nsamples = 109\\nvalue = [5, 39, 65]'),\n",
       " Text(0.2857142857142857, 0.16666666666666666, 'x[5] <= -1.5\\ngini = 0.553\\nsamples = 215\\nvalue = [18, 120, 77]'),\n",
       " Text(0.28, 0.05555555555555555, 'gini = 0.509\\nsamples = 145\\nvalue = [10, 91, 44]'),\n",
       " Text(0.2914285714285714, 0.05555555555555555, 'gini = 0.593\\nsamples = 70\\nvalue = [8, 29, 33]'),\n",
       " Text(0.39, 0.6111111111111112, 'x[5] <= 2.5\\ngini = 0.602\\nsamples = 2926\\nvalue = [384, 1394, 1148]'),\n",
       " Text(0.33714285714285713, 0.5, 'x[9] <= 390.5\\ngini = 0.548\\nsamples = 1607\\nvalue = [139, 921, 547]'),\n",
       " Text(0.3142857142857143, 0.3888888888888889, 'x[1] <= 171.5\\ngini = 0.544\\nsamples = 333\\nvalue = [17, 145, 171]'),\n",
       " Text(0.3028571428571429, 0.2777777777777778, 'x[6] <= 12.5\\ngini = 0.548\\nsamples = 177\\nvalue = [10, 91, 76]'),\n",
       " Text(0.29714285714285715, 0.16666666666666666, 'gini = 0.499\\nsamples = 83\\nvalue = [4, 52, 27]'),\n",
       " Text(0.30857142857142855, 0.16666666666666666, 'gini = 0.552\\nsamples = 94\\nvalue = [6, 39, 49]'),\n",
       " Text(0.32571428571428573, 0.2777777777777778, 'x[1] <= 239.5\\ngini = 0.507\\nsamples = 156\\nvalue = [7, 54, 95]'),\n",
       " Text(0.32, 0.16666666666666666, 'gini = 0.45\\nsamples = 89\\nvalue = [5, 22, 62]'),\n",
       " Text(0.3314285714285714, 0.16666666666666666, 'gini = 0.528\\nsamples = 67\\nvalue = [2, 32, 33]'),\n",
       " Text(0.36, 0.3888888888888889, 'x[6] <= 18.5\\ngini = 0.533\\nsamples = 1274\\nvalue = [122, 776, 376]'),\n",
       " Text(0.35428571428571426, 0.2777777777777778, 'x[0] <= 13.5\\ngini = 0.518\\nsamples = 1166\\nvalue = [100, 730, 336]'),\n",
       " Text(0.34285714285714286, 0.16666666666666666, 'x[0] <= 3.5\\ngini = 0.487\\nsamples = 663\\nvalue = [62, 444, 157]'),\n",
       " Text(0.33714285714285713, 0.05555555555555555, 'gini = 0.55\\nsamples = 213\\nvalue = [26, 127, 60]'),\n",
       " Text(0.3485714285714286, 0.05555555555555555, 'gini = 0.451\\nsamples = 450\\nvalue = [36, 317, 97]'),\n",
       " Text(0.3657142857142857, 0.16666666666666666, 'x[9] <= 691.5\\ngini = 0.544\\nsamples = 503\\nvalue = [38, 286, 179]'),\n",
       " Text(0.36, 0.05555555555555555, 'gini = 0.543\\nsamples = 172\\nvalue = [8, 85, 79]'),\n",
       " Text(0.37142857142857144, 0.05555555555555555, 'gini = 0.532\\nsamples = 331\\nvalue = [30, 201, 100]'),\n",
       " Text(0.3657142857142857, 0.2777777777777778, 'gini = 0.64\\nsamples = 108\\nvalue = [22, 46, 40]'),\n",
       " Text(0.44285714285714284, 0.5, 'x[9] <= 631.0\\ngini = 0.629\\nsamples = 1319\\nvalue = [245, 473, 601]'),\n",
       " Text(0.4142857142857143, 0.3888888888888889, 'x[5] <= 6.5\\ngini = 0.588\\nsamples = 564\\nvalue = [98, 153, 313]'),\n",
       " Text(0.4, 0.2777777777777778, 'x[0] <= 13.5\\ngini = 0.584\\nsamples = 374\\nvalue = [47, 128, 199]'),\n",
       " Text(0.38857142857142857, 0.16666666666666666, 'x[6] <= 12.5\\ngini = 0.599\\nsamples = 197\\nvalue = [24, 85, 88]'),\n",
       " Text(0.38285714285714284, 0.05555555555555555, 'gini = 0.547\\nsamples = 78\\nvalue = [6, 44, 28]'),\n",
       " Text(0.3942857142857143, 0.05555555555555555, 'gini = 0.604\\nsamples = 119\\nvalue = [18, 41, 60]'),\n",
       " Text(0.4114285714285714, 0.16666666666666666, 'x[4] <= 1575.0\\ngini = 0.531\\nsamples = 177\\nvalue = [23, 43, 111]'),\n",
       " Text(0.4057142857142857, 0.05555555555555555, 'gini = 0.586\\nsamples = 97\\nvalue = [13, 32, 52]'),\n",
       " Text(0.41714285714285715, 0.05555555555555555, 'gini = 0.422\\nsamples = 80\\nvalue = [10, 11, 59]'),\n",
       " Text(0.42857142857142855, 0.2777777777777778, 'x[6] <= 12.5\\ngini = 0.551\\nsamples = 190\\nvalue = [51, 25, 114]'),\n",
       " Text(0.4228571428571429, 0.16666666666666666, 'gini = 0.479\\nsamples = 99\\nvalue = [15, 16, 68]'),\n",
       " Text(0.4342857142857143, 0.16666666666666666, 'gini = 0.578\\nsamples = 91\\nvalue = [36, 9, 46]'),\n",
       " Text(0.4714285714285714, 0.3888888888888889, 'x[9] <= 1517.5\\ngini = 0.637\\nsamples = 755\\nvalue = [147, 320, 288]'),\n",
       " Text(0.45714285714285713, 0.2777777777777778, 'x[5] <= 5.5\\ngini = 0.636\\nsamples = 539\\nvalue = [104, 206, 229]'),\n",
       " Text(0.44571428571428573, 0.16666666666666666, 'x[6] <= 13.5\\ngini = 0.605\\nsamples = 249\\nvalue = [33, 115, 101]'),\n",
       " Text(0.44, 0.05555555555555555, 'gini = 0.583\\nsamples = 151\\nvalue = [17, 78, 56]'),\n",
       " Text(0.4514285714285714, 0.05555555555555555, 'gini = 0.62\\nsamples = 98\\nvalue = [16, 37, 45]'),\n",
       " Text(0.4685714285714286, 0.16666666666666666, 'x[6] <= 14.5\\ngini = 0.647\\nsamples = 290\\nvalue = [71, 91, 128]'),\n",
       " Text(0.46285714285714286, 0.05555555555555555, 'gini = 0.622\\nsamples = 198\\nvalue = [36, 67, 95]'),\n",
       " Text(0.4742857142857143, 0.05555555555555555, 'gini = 0.659\\nsamples = 92\\nvalue = [35, 24, 33]'),\n",
       " Text(0.4857142857142857, 0.2777777777777778, 'x[6] <= 13.5\\ngini = 0.607\\nsamples = 216\\nvalue = [43, 114, 59]'),\n",
       " Text(0.48, 0.16666666666666666, 'gini = 0.494\\nsamples = 101\\nvalue = [10, 67, 24]'),\n",
       " Text(0.49142857142857144, 0.16666666666666666, 'gini = 0.658\\nsamples = 115\\nvalue = [33, 47, 35]'),\n",
       " Text(0.6675, 0.7222222222222222, 'x[6] <= 34.5\\ngini = 0.664\\nsamples = 3426\\nvalue = [1011, 1233, 1182]'),\n",
       " Text(0.5978571428571429, 0.6111111111111112, 'x[5] <= -3.5\\ngini = 0.641\\nsamples = 2788\\nvalue = [572, 1155, 1061]'),\n",
       " Text(0.5442857142857143, 0.5, 'x[6] <= 27.5\\ngini = 0.582\\nsamples = 1441\\nvalue = [176, 768, 497]'),\n",
       " Text(0.5285714285714286, 0.3888888888888889, 'x[9] <= 1341.5\\ngini = 0.532\\nsamples = 997\\nvalue = [83, 600, 314]'),\n",
       " Text(0.5142857142857142, 0.2777777777777778, 'x[5] <= -6.5\\ngini = 0.551\\nsamples = 807\\nvalue = [68, 456, 283]'),\n",
       " Text(0.5028571428571429, 0.16666666666666666, 'x[1] <= 85.0\\ngini = 0.511\\nsamples = 356\\nvalue = [30, 226, 100]'),\n",
       " Text(0.49714285714285716, 0.05555555555555555, 'gini = 0.599\\nsamples = 95\\nvalue = [14, 49, 32]'),\n",
       " Text(0.5085714285714286, 0.05555555555555555, 'gini = 0.468\\nsamples = 261\\nvalue = [16, 177, 68]'),\n",
       " Text(0.5257142857142857, 0.16666666666666666, 'x[1] <= 189.5\\ngini = 0.568\\nsamples = 451\\nvalue = [38, 230, 183]'),\n",
       " Text(0.52, 0.05555555555555555, 'gini = 0.559\\nsamples = 269\\nvalue = [26, 151, 92]'),\n",
       " Text(0.5314285714285715, 0.05555555555555555, 'gini = 0.557\\nsamples = 182\\nvalue = [12, 79, 91]'),\n",
       " Text(0.5428571428571428, 0.2777777777777778, 'x[9] <= 1936.5\\ngini = 0.393\\nsamples = 190\\nvalue = [15, 144, 31]'),\n",
       " Text(0.5371428571428571, 0.16666666666666666, 'gini = 0.471\\nsamples = 90\\nvalue = [9, 62, 19]'),\n",
       " Text(0.5485714285714286, 0.16666666666666666, 'gini = 0.31\\nsamples = 100\\nvalue = [6, 82, 12]'),\n",
       " Text(0.56, 0.3888888888888889, 'x[9] <= 283.0\\ngini = 0.643\\nsamples = 444\\nvalue = [93, 168, 183]'),\n",
       " Text(0.5542857142857143, 0.2777777777777778, 'gini = 0.526\\nsamples = 86\\nvalue = [15, 16, 55]'),\n",
       " Text(0.5657142857142857, 0.2777777777777778, 'x[1] <= 81.5\\ngini = 0.644\\nsamples = 358\\nvalue = [78, 152, 128]'),\n",
       " Text(0.56, 0.16666666666666666, 'gini = 0.662\\nsamples = 72\\nvalue = [25, 20, 27]'),\n",
       " Text(0.5714285714285714, 0.16666666666666666, 'x[4] <= 829.5\\ngini = 0.628\\nsamples = 286\\nvalue = [53, 132, 101]'),\n",
       " Text(0.5657142857142857, 0.05555555555555555, 'gini = 0.647\\nsamples = 77\\nvalue = [24, 34, 19]'),\n",
       " Text(0.5771428571428572, 0.05555555555555555, 'gini = 0.607\\nsamples = 209\\nvalue = [29, 98, 82]'),\n",
       " Text(0.6514285714285715, 0.5, 'x[5] <= 0.5\\ngini = 0.656\\nsamples = 1347\\nvalue = [396, 387, 564]'),\n",
       " Text(0.6285714285714286, 0.3888888888888889, 'x[6] <= 27.5\\ngini = 0.64\\nsamples = 963\\nvalue = [211, 320, 432]'),\n",
       " Text(0.6057142857142858, 0.2777777777777778, 'x[9] <= 648.0\\ngini = 0.619\\nsamples = 693\\nvalue = [111, 267, 315]'),\n",
       " Text(0.5942857142857143, 0.16666666666666666, 'x[8] <= 1152.5\\ngini = 0.59\\nsamples = 321\\nvalue = [51, 95, 175]'),\n",
       " Text(0.5885714285714285, 0.05555555555555555, 'gini = 0.54\\nsamples = 122\\nvalue = [21, 25, 76]'),\n",
       " Text(0.6, 0.05555555555555555, 'gini = 0.606\\nsamples = 199\\nvalue = [30, 70, 99]'),\n",
       " Text(0.6171428571428571, 0.16666666666666666, 'x[9] <= 1591.0\\ngini = 0.619\\nsamples = 372\\nvalue = [60, 172, 140]'),\n",
       " Text(0.6114285714285714, 0.05555555555555555, 'gini = 0.613\\nsamples = 263\\nvalue = [38, 112, 113]'),\n",
       " Text(0.6228571428571429, 0.05555555555555555, 'gini = 0.595\\nsamples = 109\\nvalue = [22, 60, 27]'),\n",
       " Text(0.6514285714285715, 0.2777777777777778, 'x[9] <= 704.0\\ngini = 0.637\\nsamples = 270\\nvalue = [100, 53, 117]'),\n",
       " Text(0.64, 0.16666666666666666, 'x[8] <= 1412.0\\ngini = 0.583\\nsamples = 135\\nvalue = [54, 14, 67]'),\n",
       " Text(0.6342857142857142, 0.05555555555555555, 'gini = 0.552\\nsamples = 67\\nvalue = [21, 7, 39]'),\n",
       " Text(0.6457142857142857, 0.05555555555555555, 'gini = 0.584\\nsamples = 68\\nvalue = [33, 7, 28]'),\n",
       " Text(0.6628571428571428, 0.16666666666666666, 'x[5] <= -1.5\\ngini = 0.663\\nsamples = 135\\nvalue = [46, 39, 50]'),\n",
       " Text(0.6571428571428571, 0.05555555555555555, 'gini = 0.666\\nsamples = 68\\nvalue = [21, 23, 24]'),\n",
       " Text(0.6685714285714286, 0.05555555555555555, 'gini = 0.653\\nsamples = 67\\nvalue = [25, 16, 26]'),\n",
       " Text(0.6742857142857143, 0.3888888888888889, 'x[8] <= 1229.5\\ngini = 0.619\\nsamples = 384\\nvalue = [185, 67, 132]'),\n",
       " Text(0.6685714285714286, 0.2777777777777778, 'gini = 0.563\\nsamples = 109\\nvalue = [65, 23, 21]'),\n",
       " Text(0.68, 0.2777777777777778, 'x[7] <= 1429.0\\ngini = 0.621\\nsamples = 275\\nvalue = [120, 44, 111]'),\n",
       " Text(0.6742857142857143, 0.16666666666666666, 'gini = 0.596\\nsamples = 117\\nvalue = [41, 16, 60]'),\n",
       " Text(0.6857142857142857, 0.16666666666666666, 'x[7] <= 1802.0\\ngini = 0.614\\nsamples = 158\\nvalue = [79, 28, 51]'),\n",
       " Text(0.68, 0.05555555555555555, 'gini = 0.525\\nsamples = 75\\nvalue = [48, 12, 15]'),\n",
       " Text(0.6914285714285714, 0.05555555555555555, 'gini = 0.635\\nsamples = 83\\nvalue = [31, 16, 36]'),\n",
       " Text(0.7371428571428571, 0.6111111111111112, 'x[6] <= 49.5\\ngini = 0.476\\nsamples = 638\\nvalue = [439, 78, 121]'),\n",
       " Text(0.7257142857142858, 0.5, 'x[5] <= -0.5\\ngini = 0.546\\nsamples = 489\\nvalue = [300, 76, 113]'),\n",
       " Text(0.72, 0.3888888888888889, 'x[9] <= 940.5\\ngini = 0.598\\nsamples = 358\\nvalue = [193, 65, 100]'),\n",
       " Text(0.7142857142857143, 0.2777777777777778, 'x[6] <= 41.5\\ngini = 0.52\\nsamples = 236\\nvalue = [149, 24, 63]'),\n",
       " Text(0.7085714285714285, 0.16666666666666666, 'x[7] <= 1429.0\\ngini = 0.579\\nsamples = 151\\nvalue = [81, 18, 52]'),\n",
       " Text(0.7028571428571428, 0.05555555555555555, 'gini = 0.586\\nsamples = 79\\nvalue = [36, 8, 35]'),\n",
       " Text(0.7142857142857143, 0.05555555555555555, 'gini = 0.534\\nsamples = 72\\nvalue = [45, 10, 17]'),\n",
       " Text(0.72, 0.16666666666666666, 'gini = 0.338\\nsamples = 85\\nvalue = [68, 6, 11]'),\n",
       " Text(0.7257142857142858, 0.2777777777777778, 'gini = 0.665\\nsamples = 122\\nvalue = [44, 41, 37]'),\n",
       " Text(0.7314285714285714, 0.3888888888888889, 'gini = 0.316\\nsamples = 131\\nvalue = [107, 11, 13]'),\n",
       " Text(0.7485714285714286, 0.5, 'x[9] <= 574.5\\ngini = 0.127\\nsamples = 149\\nvalue = [139, 2, 8]'),\n",
       " Text(0.7428571428571429, 0.3888888888888889, 'gini = 0.0\\nsamples = 78\\nvalue = [78, 0, 0]'),\n",
       " Text(0.7542857142857143, 0.3888888888888889, 'gini = 0.248\\nsamples = 71\\nvalue = [61, 2, 8]'),\n",
       " Text(0.8814285714285715, 0.8333333333333334, 'x[5] <= 20.5\\ngini = 0.277\\nsamples = 4428\\nvalue = [3724, 168, 536]'),\n",
       " Text(0.83, 0.7222222222222222, 'x[6] <= 21.5\\ngini = 0.554\\nsamples = 1422\\nvalue = [819, 146, 457]'),\n",
       " Text(0.8028571428571428, 0.6111111111111112, 'x[5] <= 12.5\\ngini = 0.588\\nsamples = 1140\\nvalue = [585, 137, 418]'),\n",
       " Text(0.7771428571428571, 0.5, 'x[9] <= 704.0\\ngini = 0.638\\nsamples = 397\\nvalue = [139, 82, 176]'),\n",
       " Text(0.7657142857142857, 0.3888888888888889, 'x[1] <= 89.5\\ngini = 0.574\\nsamples = 193\\nvalue = [81, 17, 95]'),\n",
       " Text(0.76, 0.2777777777777778, 'gini = 0.489\\nsamples = 70\\nvalue = [19, 5, 46]'),\n",
       " Text(0.7714285714285715, 0.2777777777777778, 'gini = 0.578\\nsamples = 123\\nvalue = [62, 12, 49]'),\n",
       " Text(0.7885714285714286, 0.3888888888888889, 'x[7] <= 1622.0\\ngini = 0.66\\nsamples = 204\\nvalue = [58, 65, 81]'),\n",
       " Text(0.7828571428571428, 0.2777777777777778, 'gini = 0.638\\nsamples = 118\\nvalue = [35, 28, 55]'),\n",
       " Text(0.7942857142857143, 0.2777777777777778, 'gini = 0.652\\nsamples = 86\\nvalue = [23, 37, 26]'),\n",
       " Text(0.8285714285714286, 0.5, 'x[9] <= 546.5\\ngini = 0.528\\nsamples = 743\\nvalue = [446, 55, 242]'),\n",
       " Text(0.8114285714285714, 0.3888888888888889, 'x[2] <= 136.0\\ngini = 0.394\\nsamples = 287\\nvalue = [213, 7, 67]'),\n",
       " Text(0.8057142857142857, 0.2777777777777778, 'gini = 0.512\\nsamples = 103\\nvalue = [61, 4, 38]'),\n",
       " Text(0.8171428571428572, 0.2777777777777778, 'x[10] <= 5.5\\ngini = 0.292\\nsamples = 184\\nvalue = [152, 3, 29]'),\n",
       " Text(0.8114285714285714, 0.16666666666666666, 'gini = 0.198\\nsamples = 74\\nvalue = [66, 3, 5]'),\n",
       " Text(0.8228571428571428, 0.16666666666666666, 'gini = 0.341\\nsamples = 110\\nvalue = [86, 0, 24]'),\n",
       " Text(0.8457142857142858, 0.3888888888888889, 'x[9] <= 1384.5\\ngini = 0.581\\nsamples = 456\\nvalue = [233, 48, 175]'),\n",
       " Text(0.84, 0.2777777777777778, 'x[8] <= 2031.5\\ngini = 0.547\\nsamples = 336\\nvalue = [181, 21, 134]'),\n",
       " Text(0.8342857142857143, 0.16666666666666666, 'x[8] <= 1801.0\\ngini = 0.538\\nsamples = 251\\nvalue = [144, 17, 90]'),\n",
       " Text(0.8285714285714286, 0.05555555555555555, 'gini = 0.562\\nsamples = 184\\nvalue = [97, 15, 72]'),\n",
       " Text(0.84, 0.05555555555555555, 'gini = 0.435\\nsamples = 67\\nvalue = [47, 2, 18]'),\n",
       " Text(0.8457142857142858, 0.16666666666666666, 'gini = 0.54\\nsamples = 85\\nvalue = [37, 4, 44]'),\n",
       " Text(0.8514285714285714, 0.2777777777777778, 'gini = 0.645\\nsamples = 120\\nvalue = [52, 27, 41]'),\n",
       " Text(0.8571428571428571, 0.6111111111111112, 'x[9] <= 592.5\\ngini = 0.291\\nsamples = 282\\nvalue = [234, 9, 39]'),\n",
       " Text(0.8514285714285714, 0.5, 'gini = 0.092\\nsamples = 104\\nvalue = [99, 1, 4]'),\n",
       " Text(0.8628571428571429, 0.5, 'x[6] <= 26.5\\ngini = 0.384\\nsamples = 178\\nvalue = [135, 8, 35]'),\n",
       " Text(0.8571428571428571, 0.3888888888888889, 'gini = 0.479\\nsamples = 87\\nvalue = [57, 4, 26]'),\n",
       " Text(0.8685714285714285, 0.3888888888888889, 'gini = 0.254\\nsamples = 91\\nvalue = [78, 4, 9]'),\n",
       " Text(0.9328571428571428, 0.7222222222222222, 'x[5] <= 25.5\\ngini = 0.065\\nsamples = 3006\\nvalue = [2905, 22, 79]'),\n",
       " Text(0.8971428571428571, 0.6111111111111112, 'x[9] <= 762.5\\ngini = 0.274\\nsamples = 397\\nvalue = [334, 11, 52]'),\n",
       " Text(0.8857142857142857, 0.5, 'x[6] <= 15.5\\ngini = 0.165\\nsamples = 223\\nvalue = [203, 3, 17]'),\n",
       " Text(0.88, 0.3888888888888889, 'gini = 0.247\\nsamples = 119\\nvalue = [102, 1, 16]'),\n",
       " Text(0.8914285714285715, 0.3888888888888889, 'gini = 0.056\\nsamples = 104\\nvalue = [101, 2, 1]'),\n",
       " Text(0.9085714285714286, 0.5, 'x[1] <= 158.0\\ngini = 0.391\\nsamples = 174\\nvalue = [131, 8, 35]'),\n",
       " Text(0.9028571428571428, 0.3888888888888889, 'gini = 0.246\\nsamples = 71\\nvalue = [61, 1, 9]'),\n",
       " Text(0.9142857142857143, 0.3888888888888889, 'gini = 0.47\\nsamples = 103\\nvalue = [70, 7, 26]'),\n",
       " Text(0.9685714285714285, 0.6111111111111112, 'x[9] <= 2120.5\\ngini = 0.029\\nsamples = 2609\\nvalue = [2571, 11, 27]'),\n",
       " Text(0.9485714285714286, 0.5, 'x[5] <= 29.5\\ngini = 0.016\\nsamples = 2432\\nvalue = [2413, 3, 16]'),\n",
       " Text(0.9257142857142857, 0.3888888888888889, 'x[6] <= 12.5\\ngini = 0.109\\nsamples = 243\\nvalue = [229, 2, 12]'),\n",
       " Text(0.92, 0.2777777777777778, 'gini = 0.189\\nsamples = 104\\nvalue = [93, 0, 11]'),\n",
       " Text(0.9314285714285714, 0.2777777777777778, 'x[9] <= 608.5\\ngini = 0.042\\nsamples = 139\\nvalue = [136, 2, 1]'),\n",
       " Text(0.9257142857142857, 0.16666666666666666, 'gini = 0.0\\nsamples = 72\\nvalue = [72, 0, 0]'),\n",
       " Text(0.9371428571428572, 0.16666666666666666, 'gini = 0.086\\nsamples = 67\\nvalue = [64, 2, 1]'),\n",
       " Text(0.9714285714285714, 0.3888888888888889, 'x[5] <= 33.5\\ngini = 0.005\\nsamples = 2189\\nvalue = [2184, 1, 4]'),\n",
       " Text(0.9542857142857143, 0.2777777777777778, 'x[1] <= 104.0\\ngini = 0.039\\nsamples = 204\\nvalue = [200, 1, 3]'),\n",
       " Text(0.9485714285714286, 0.16666666666666666, 'gini = 0.082\\nsamples = 70\\nvalue = [67, 0, 3]'),\n",
       " Text(0.96, 0.16666666666666666, 'x[5] <= 31.5\\ngini = 0.015\\nsamples = 134\\nvalue = [133, 1, 0]'),\n",
       " Text(0.9542857142857143, 0.05555555555555555, 'gini = 0.029\\nsamples = 67\\nvalue = [66, 1, 0]'),\n",
       " Text(0.9657142857142857, 0.05555555555555555, 'gini = 0.0\\nsamples = 67\\nvalue = [67, 0, 0]'),\n",
       " Text(0.9885714285714285, 0.2777777777777778, 'x[1] <= 20.5\\ngini = 0.001\\nsamples = 1985\\nvalue = [1984, 0, 1]'),\n",
       " Text(0.9828571428571429, 0.16666666666666666, 'x[4] <= 1820.0\\ngini = 0.012\\nsamples = 162\\nvalue = [161, 0, 1]'),\n",
       " Text(0.9771428571428571, 0.05555555555555555, 'gini = 0.0\\nsamples = 95\\nvalue = [95, 0, 0]'),\n",
       " Text(0.9885714285714285, 0.05555555555555555, 'gini = 0.029\\nsamples = 67\\nvalue = [66, 0, 1]'),\n",
       " Text(0.9942857142857143, 0.16666666666666666, 'gini = 0.0\\nsamples = 1823\\nvalue = [1823, 0, 0]'),\n",
       " Text(0.9885714285714285, 0.5, 'x[5] <= 46.5\\ngini = 0.197\\nsamples = 177\\nvalue = [158, 8, 11]'),\n",
       " Text(0.9828571428571429, 0.3888888888888889, 'gini = 0.381\\nsamples = 78\\nvalue = [60, 8, 10]'),\n",
       " Text(0.9942857142857143, 0.3888888888888889, 'gini = 0.02\\nsamples = 99\\nvalue = [98, 0, 1]')]"
      ]
     },
     "execution_count": 234,
     "metadata": {},
     "output_type": "execute_result"
    },
    {
     "data": {
      "image/png": "[encoded data removed]",
      "text/plain": [
       "<Figure size 640x480 with 1 Axes>"
      ]
     },
     "metadata": {},
     "output_type": "display_data"
    }
   ],
   "source": [
    "# allows us to visualize the complexity of the model\n",
    "tree.plot_tree(dt_clf)"
   ]
  },
  {
   "cell_type": "markdown",
   "metadata": {},
   "source": [
    "### Voting Ensemble"
   ]
  },
  {
   "cell_type": "code",
   "execution_count": 235,
   "metadata": {},
   "outputs": [],
   "source": [
    "# import Voting Classifier ensemble model\n",
    "from sklearn.ensemble import VotingClassifier"
   ]
  },
  {
   "cell_type": "code",
   "execution_count": 236,
   "metadata": {},
   "outputs": [],
   "source": [
    "# instantiate the logistic regression and DTC\n",
    "logistic_reg = LogisticRegression(max_iter=1000)\n",
    "dtc = DecisionTreeClassifier(max_depth=8, min_samples_split=7, min_samples_leaf=67)"
   ]
  },
  {
   "cell_type": "code",
   "execution_count": 237,
   "metadata": {},
   "outputs": [
    {
     "data": {
      "text/html": [
       "<style>#sk-container-id-14 {color: black;background-color: white;}#sk-container-id-14 pre{padding: 0;}#sk-container-id-14 div.sk-toggleable {background-color: white;}#sk-container-id-14 label.sk-toggleable__label {cursor: pointer;display: block;width: 100%;margin-bottom: 0;padding: 0.3em;box-sizing: border-box;text-align: center;}#sk-container-id-14 label.sk-toggleable__label-arrow:before {content: \"▸\";float: left;margin-right: 0.25em;color: #696969;}#sk-container-id-14 label.sk-toggleable__label-arrow:hover:before {color: black;}#sk-container-id-14 div.sk-estimator:hover label.sk-toggleable__label-arrow:before {color: black;}#sk-container-id-14 div.sk-toggleable__content {max-height: 0;max-width: 0;overflow: hidden;text-align: left;background-color: #f0f8ff;}#sk-container-id-14 div.sk-toggleable__content pre {margin: 0.2em;color: black;border-radius: 0.25em;background-color: #f0f8ff;}#sk-container-id-14 input.sk-toggleable__control:checked~div.sk-toggleable__content {max-height: 200px;max-width: 100%;overflow: auto;}#sk-container-id-14 input.sk-toggleable__control:checked~label.sk-toggleable__label-arrow:before {content: \"▾\";}#sk-container-id-14 div.sk-estimator input.sk-toggleable__control:checked~label.sk-toggleable__label {background-color: #d4ebff;}#sk-container-id-14 div.sk-label input.sk-toggleable__control:checked~label.sk-toggleable__label {background-color: #d4ebff;}#sk-container-id-14 input.sk-hidden--visually {border: 0;clip: rect(1px 1px 1px 1px);clip: rect(1px, 1px, 1px, 1px);height: 1px;margin: -1px;overflow: hidden;padding: 0;position: absolute;width: 1px;}#sk-container-id-14 div.sk-estimator {font-family: monospace;background-color: #f0f8ff;border: 1px dotted black;border-radius: 0.25em;box-sizing: border-box;margin-bottom: 0.5em;}#sk-container-id-14 div.sk-estimator:hover {background-color: #d4ebff;}#sk-container-id-14 div.sk-parallel-item::after {content: \"\";width: 100%;border-bottom: 1px solid gray;flex-grow: 1;}#sk-container-id-14 div.sk-label:hover label.sk-toggleable__label {background-color: #d4ebff;}#sk-container-id-14 div.sk-serial::before {content: \"\";position: absolute;border-left: 1px solid gray;box-sizing: border-box;top: 0;bottom: 0;left: 50%;z-index: 0;}#sk-container-id-14 div.sk-serial {display: flex;flex-direction: column;align-items: center;background-color: white;padding-right: 0.2em;padding-left: 0.2em;position: relative;}#sk-container-id-14 div.sk-item {position: relative;z-index: 1;}#sk-container-id-14 div.sk-parallel {display: flex;align-items: stretch;justify-content: center;background-color: white;position: relative;}#sk-container-id-14 div.sk-item::before, #sk-container-id-14 div.sk-parallel-item::before {content: \"\";position: absolute;border-left: 1px solid gray;box-sizing: border-box;top: 0;bottom: 0;left: 50%;z-index: -1;}#sk-container-id-14 div.sk-parallel-item {display: flex;flex-direction: column;z-index: 1;position: relative;background-color: white;}#sk-container-id-14 div.sk-parallel-item:first-child::after {align-self: flex-end;width: 50%;}#sk-container-id-14 div.sk-parallel-item:last-child::after {align-self: flex-start;width: 50%;}#sk-container-id-14 div.sk-parallel-item:only-child::after {width: 0;}#sk-container-id-14 div.sk-dashed-wrapped {border: 1px dashed gray;margin: 0 0.4em 0.5em 0.4em;box-sizing: border-box;padding-bottom: 0.4em;background-color: white;}#sk-container-id-14 div.sk-label label {font-family: monospace;font-weight: bold;display: inline-block;line-height: 1.2em;}#sk-container-id-14 div.sk-label-container {text-align: center;}#sk-container-id-14 div.sk-container {/* jupyter's `normalize.less` sets `[hidden] { display: none; }` but bootstrap.min.css set `[hidden] { display: none !important; }` so we also need the `!important` here to be able to override the default hidden behavior on the sphinx rendered scikit-learn.org. See: https://github.com/scikit-learn/scikit-learn/issues/21755 */display: inline-block !important;position: relative;}#sk-container-id-14 div.sk-text-repr-fallback {display: none;}</style><div id=\"sk-container-id-14\" class=\"sk-top-container\"><div class=\"sk-text-repr-fallback\"><pre>VotingClassifier(estimators=[(&#x27;logistic&#x27;, LogisticRegression(max_iter=1000)),\n",
       "                             (&#x27;dtc&#x27;,\n",
       "                              DecisionTreeClassifier(max_depth=8,\n",
       "                                                     min_samples_leaf=67,\n",
       "                                                     min_samples_split=7))])</pre><b>In a Jupyter environment, please rerun this cell to show the HTML representation or trust the notebook. <br />On GitHub, the HTML representation is unable to render, please try loading this page with nbviewer.org.</b></div><div class=\"sk-container\" hidden><div class=\"sk-item sk-dashed-wrapped\"><div class=\"sk-label-container\"><div class=\"sk-label sk-toggleable\"><input class=\"sk-toggleable__control sk-hidden--visually\" id=\"sk-estimator-id-34\" type=\"checkbox\" ><label for=\"sk-estimator-id-34\" class=\"sk-toggleable__label sk-toggleable__label-arrow\">VotingClassifier</label><div class=\"sk-toggleable__content\"><pre>VotingClassifier(estimators=[(&#x27;logistic&#x27;, LogisticRegression(max_iter=1000)),\n",
       "                             (&#x27;dtc&#x27;,\n",
       "                              DecisionTreeClassifier(max_depth=8,\n",
       "                                                     min_samples_leaf=67,\n",
       "                                                     min_samples_split=7))])</pre></div></div></div><div class=\"sk-parallel\"><div class=\"sk-parallel-item\"><div class=\"sk-item\"><div class=\"sk-label-container\"><div class=\"sk-label sk-toggleable\"><label>logistic</label></div></div><div class=\"sk-serial\"><div class=\"sk-item\"><div class=\"sk-estimator sk-toggleable\"><input class=\"sk-toggleable__control sk-hidden--visually\" id=\"sk-estimator-id-35\" type=\"checkbox\" ><label for=\"sk-estimator-id-35\" class=\"sk-toggleable__label sk-toggleable__label-arrow\">LogisticRegression</label><div class=\"sk-toggleable__content\"><pre>LogisticRegression(max_iter=1000)</pre></div></div></div></div></div></div><div class=\"sk-parallel-item\"><div class=\"sk-item\"><div class=\"sk-label-container\"><div class=\"sk-label sk-toggleable\"><label>dtc</label></div></div><div class=\"sk-serial\"><div class=\"sk-item\"><div class=\"sk-estimator sk-toggleable\"><input class=\"sk-toggleable__control sk-hidden--visually\" id=\"sk-estimator-id-36\" type=\"checkbox\" ><label for=\"sk-estimator-id-36\" class=\"sk-toggleable__label sk-toggleable__label-arrow\">DecisionTreeClassifier</label><div class=\"sk-toggleable__content\"><pre>DecisionTreeClassifier(max_depth=8, min_samples_leaf=67, min_samples_split=7)</pre></div></div></div></div></div></div></div></div></div></div>"
      ],
      "text/plain": [
       "VotingClassifier(estimators=[('logistic', LogisticRegression(max_iter=1000)),\n",
       "                             ('dtc',\n",
       "                              DecisionTreeClassifier(max_depth=8,\n",
       "                                                     min_samples_leaf=67,\n",
       "                                                     min_samples_split=7))])"
      ]
     },
     "execution_count": 237,
     "metadata": {},
     "output_type": "execute_result"
    }
   ],
   "source": [
    "# instantiate and fit VotingClassifier\n",
    "ensemble = VotingClassifier(estimators=[\n",
    "    ('logistic', logistic_reg),\n",
    "    ('dtc', dtc)\n",
    "], voting='hard')\n",
    "\n",
    "# use scaled data because of the logistic regression\n",
    "ensemble.fit(X_train_scaled, y_train)"
   ]
  },
  {
   "cell_type": "code",
   "execution_count": 238,
   "metadata": {},
   "outputs": [],
   "source": [
    "# extract predictions\n",
    "test_preds = ensemble.predict(X_test_scaled)"
   ]
  },
  {
   "cell_type": "code",
   "execution_count": 239,
   "metadata": {},
   "outputs": [
    {
     "name": "stdout",
     "output_type": "stream",
     "text": [
      "Ensemble Accuracy:  0.49485585076314303\n"
     ]
    }
   ],
   "source": [
    "# print accuracy of this model\n",
    "accuracy = accuracy_score(y_test, test_preds)\n",
    "print('Ensemble Accuracy: ', accuracy)"
   ]
  }
 ],
 "metadata": {
  "colab": {
   "provenance": []
  },
  "kernelspec": {
   "display_name": "Python 3 (ipykernel)",
   "language": "python",
   "name": "python3"
  },
  "language_info": {
   "codemirror_mode": {
    "name": "ipython",
    "version": 3
   },
   "file_extension": ".py",
   "mimetype": "text/x-python",
   "name": "python",
   "nbconvert_exporter": "python",
   "pygments_lexer": "ipython3",
   "version": "3.11.7"
  }
 },
 "nbformat": 4,
 "nbformat_minor": 4
}
