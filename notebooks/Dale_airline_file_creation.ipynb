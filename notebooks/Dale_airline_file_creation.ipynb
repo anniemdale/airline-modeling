{
 "cells": [
  {
   "cell_type": "markdown",
   "metadata": {
    "id": "9Wb8eaRh4Gro"
   },
   "source": [
    "# Project 3: Airline Delay and Cancellation\n",
    "### Notebook Goal\n",
    "The goal of this notebook is to subset the larger multiyear datasets into a manageable CSV file. Here we took 10,000 random rows from the csv files corresponding to the years 2016, 2017, and 2018 and concatenated them into one csv file totalling 30,000 rows. We subsetted our data because the file corresponding to each year contained over 7 million rows, which would cause our program to lag and ultimately crash.\n",
    "\n",
    "Here is a link to the original Kaggle dataset:\n",
    "https://www.kaggle.com/datasets/yuanyuwendymu/airline-delay-and-cancellation-data-2009-2018"
   ]
  },
  {
   "cell_type": "code",
   "execution_count": null,
   "metadata": {
    "colab": {
     "base_uri": "https://localhost:8080/"
    },
    "id": "RcaMTolLwejE",
    "outputId": "cf25dfac-2574-4163-b947-96909a476742"
   },
   "outputs": [
    {
     "name": "stdout",
     "output_type": "stream",
     "text": [
      "Mounted at /content/drive\n"
     ]
    }
   ],
   "source": [
    "import pandas as pd\n",
    "import random as rd\n",
    "import numpy as np\n",
    "from matplotlib import pyplot as plt\n",
    "\n",
    "from google.colab import drive\n",
    "drive.mount('/content/drive')\n",
    "drive_dir = '/content/drive/Shareddrives/project3_airline'"
   ]
  },
  {
   "cell_type": "code",
   "execution_count": null,
   "metadata": {
    "id": "KWnZRQwSxZTZ"
   },
   "outputs": [],
   "source": [
    "file_2018 = \"/content/drive/Shareddrives/project3_airline/airline_2018.csv\"\n",
    "n = sum(1 for line in open(file_2018))-1  # calculate total number of rows in file\n",
    "s = 10000   # number of rows you want to grab\n",
    "skip = sorted(rd.sample(range(1, n+1), n-s))  # n+1 to compensate for header; randomly grab s amount of rows by skipping n-s rows\n",
    "df_2018 = pd.read_csv(file_2018, skiprows=skip)"
   ]
  },
  {
   "cell_type": "code",
   "execution_count": null,
   "metadata": {
    "id": "T3QGWBSJyeVL"
   },
   "outputs": [],
   "source": [
    "file_2017 = \"/content/drive/Shareddrives/project3_airline/airline_2017.csv\"\n",
    "n = sum(1 for line in open(file_2017))-1\n",
    "s = 10000\n",
    "skip = sorted(rd.sample(range(1, n+1), n-s))\n",
    "df_2017 = pd.read_csv(file_2017, skiprows=skip)"
   ]
  },
  {
   "cell_type": "code",
   "execution_count": null,
   "metadata": {
    "id": "yXsW3ZNiyfvb"
   },
   "outputs": [],
   "source": [
    "file_2016 = \"/content/drive/Shareddrives/project3_airline/airline_2016.csv\"\n",
    "n = sum(1 for line in open(file_2016))-1\n",
    "s = 10000\n",
    "skip = sorted(rd.sample(range(1, n+1), n-s))\n",
    "df_2016 = pd.read_csv(file_2016, skiprows=skip)"
   ]
  },
  {
   "cell_type": "code",
   "execution_count": null,
   "metadata": {
    "id": "qio9ebRfy8V5"
   },
   "outputs": [],
   "source": [
    "airline_df = pd.concat([df_2018,df_2017,df_2016], ignore_index=True)"
   ]
  },
  {
   "cell_type": "code",
   "execution_count": null,
   "metadata": {
    "colab": {
     "base_uri": "https://localhost:8080/"
    },
    "id": "HeuzIBs7zGWw",
    "outputId": "e1fcea80-1808-4ca1-bcec-2f7e012372cd"
   },
   "outputs": [
    {
     "data": {
      "text/plain": [
       "(30000, 28)"
      ]
     },
     "execution_count": 6,
     "metadata": {},
     "output_type": "execute_result"
    }
   ],
   "source": [
    "airline_df.shape"
   ]
  },
  {
   "cell_type": "code",
   "execution_count": null,
   "metadata": {
    "id": "MjB6b1vDzX_n"
   },
   "outputs": [],
   "source": [
    "airline_df.to_csv('/content/drive/Shareddrives/project3_airline/airline_30k.csv')"
   ]
  }
 ],
 "metadata": {
  "colab": {
   "provenance": []
  },
  "kernelspec": {
   "display_name": "Python 3 (ipykernel)",
   "language": "python",
   "name": "python3"
  },
  "language_info": {
   "codemirror_mode": {
    "name": "ipython",
    "version": 3
   },
   "file_extension": ".py",
   "mimetype": "text/x-python",
   "name": "python",
   "nbconvert_exporter": "python",
   "pygments_lexer": "ipython3",
   "version": "3.11.7"
  }
 },
 "nbformat": 4,
 "nbformat_minor": 4
}
